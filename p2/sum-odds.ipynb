{
 "cells": [
  {
   "cell_type": "markdown",
   "metadata": {},
   "source": [
    "# Project 2\n",
    "This is project 2. I did stuff."
   ]
  },
  {
   "cell_type": "code",
   "execution_count": 5,
   "metadata": {},
   "outputs": [],
   "source": [
    "import numpy as np\n",
    "import pydotplus\n",
    "import pprint as pp\n",
    "import mlrose\n",
    "import pandas as pd\n",
    "import random\n",
    "import datetime"
   ]
  },
  {
   "cell_type": "code",
   "execution_count": 2,
   "metadata": {},
   "outputs": [],
   "source": [
    "# load local files\n",
    "%run util/util\n",
    "%run util/stats\n",
    "%run util/charts"
   ]
  },
  {
   "cell_type": "code",
   "execution_count": 3,
   "metadata": {},
   "outputs": [],
   "source": [
    "max_trials = 10\n",
    "rand_seeds = random.sample(range(1, 999999999), max_trials)"
   ]
  },
  {
   "cell_type": "code",
   "execution_count": 4,
   "metadata": {},
   "outputs": [],
   "source": [
    "def print_groups(g):\n",
    "    for key, item in g:\n",
    "        print(g.get_group(key), \"\\n\\n\")"
   ]
  },
  {
   "cell_type": "code",
   "execution_count": 6,
   "metadata": {},
   "outputs": [],
   "source": [
    "def show_aggregates(attempts):\n",
    "    att_group = attempts.groupby('max-attemtps')\n",
    "    fitness_agg = att_group['best-fit-score'].agg([np.mean, np.std, np.median, np.min, np.max])\n",
    "    fitness_agg.columns = ['Fitness Mean', 'Fitness Std.', 'Fitness Median', 'Fitness Min', 'Fitness Max']\n",
    "    time_agg = att_group['time'].agg([np.mean])\n",
    "    time_agg.columns = ['Time Mean']\n",
    "    data_agg_comb = pd.concat([fitness_agg, time_agg], axis=1, sort=False)\n",
    "    return data_agg_comb"
   ]
  },
  {
   "cell_type": "code",
   "execution_count": 7,
   "metadata": {},
   "outputs": [],
   "source": [
    "def try_problem(prob_f, attempt_max):\n",
    "    attempts = []\n",
    "    for a in range(1, attempt_max + 1):\n",
    "        for t in range(len(rand_seeds)):\n",
    "            seed = rand_seeds[t]\n",
    "            start_time = datetime.datetime.now()\n",
    "            best_state, best_fit_score = prob_f(a, seed)\n",
    "            total_delta = datetime.datetime.now() - start_time\n",
    "            microseconds  = total_delta.seconds * 1000000 + total_delta.microseconds\n",
    "            attempts.append([a, t, best_state, best_fit_score, seed, microseconds])\n",
    "    df = pd.DataFrame(attempts, columns=['max-attemtps', 'trial-n', 'best-state', 'best-fit-score', 'seed', 'time'])\n",
    "    \n",
    "    return df"
   ]
  },
  {
   "cell_type": "code",
   "execution_count": 8,
   "metadata": {},
   "outputs": [],
   "source": [
    "def try_sim_ann(prob, initial_state, attempt_max):\n",
    "    def p(attempts, seed):\n",
    "        return mlrose.simulated_annealing(prob, schedule = mlrose.ExpDecay(), max_attempts = attempts, \n",
    "                                                              max_iters = 1000, init_state = initial_state, \n",
    "                                                              random_state = seed)\n",
    "    return try_problem(p, attempt_max)"
   ]
  },
  {
   "cell_type": "code",
   "execution_count": 9,
   "metadata": {},
   "outputs": [],
   "source": [
    "def try_genetic(prob, attempt_max):\n",
    "    def p(attempts, seed):\n",
    "        return mlrose.genetic_alg(prob, max_attempts=attempts, random_state=seed)\n",
    "    return try_problem(p, attempt_max)"
   ]
  },
  {
   "cell_type": "code",
   "execution_count": 10,
   "metadata": {},
   "outputs": [],
   "source": [
    "def try_rand_hill(prob, initial_state, attempt_max):\n",
    "    def p(attempts, seed):\n",
    "        return mlrose.random_hill_climb(prob, max_attempts=attempts, random_state=seed)\n",
    "    return try_problem(p, attempt_max)"
   ]
  },
  {
   "cell_type": "code",
   "execution_count": 11,
   "metadata": {},
   "outputs": [],
   "source": [
    "def try_mimic(prob, attempt_max):\n",
    "    def p(attempts, seed):\n",
    "        return mlrose.mimic(prob, max_attempts=attempts, random_state=seed)\n",
    "    return try_problem(p, attempt_max)"
   ]
  },
  {
   "cell_type": "code",
   "execution_count": 29,
   "metadata": {},
   "outputs": [],
   "source": [
    "def show_learning_rate(data, title, ylim=None, xlim=None):\n",
    "    plt.plot(data['Fitness Mean'], 'b', data['Fitness Median'], 'r')\n",
    "    plt.legend(['Mean Fitness', 'Median Fitness'], loc='lower right')\n",
    "    plt.xlabel('iterations')\n",
    "    plt.ylabel('fitness')\n",
    "    if ylim is not None:\n",
    "        plt.ylim(ylim[0],ylim[1])\n",
    "    if xlim is not None:\n",
    "        plt.xlim(xlim[0],xlim[1])\n",
    "    plt.title(title)\n",
    "    plt.show()"
   ]
  },
  {
   "cell_type": "code",
   "execution_count": 30,
   "metadata": {},
   "outputs": [],
   "source": [
    "def show_learning_time(data, title):\n",
    "    plt.plot(data['Time Mean'], 'gray')\n",
    "    plt.legend(['Time Mean'], loc='lower right')\n",
    "    plt.xlabel('iterations')\n",
    "    plt.ylabel('time')\n",
    "    plt.title(title)\n",
    "    plt.show()"
   ]
  },
  {
   "cell_type": "code",
   "execution_count": 14,
   "metadata": {},
   "outputs": [],
   "source": [
    "def show_charts(data, title):\n",
    "    show_learning_rate(data, title, ylim=[0,90])\n",
    "    show_learning_time(data, title + ' Time')"
   ]
  },
  {
   "cell_type": "markdown",
   "metadata": {},
   "source": [
    "# Sum Odds\n",
    "Six peaks problem."
   ]
  },
  {
   "cell_type": "code",
   "execution_count": 15,
   "metadata": {},
   "outputs": [],
   "source": [
    "def sum_odds_fitness_fn(a):\n",
    "    # returns the count of ones\n",
    "    a = np.array(a)\n",
    "    return sum(a[np.where(a % 2 == 1)])"
   ]
  },
  {
   "cell_type": "code",
   "execution_count": 16,
   "metadata": {},
   "outputs": [],
   "source": [
    "sum_odds_fitness = mlrose.CustomFitness(sum_odds_fitness_fn)\n",
    "sum_odds_problem = mlrose.DiscreteOpt(length = 10, fitness_fn = sum_odds_fitness, maximize = True, max_val = 10)"
   ]
  },
  {
   "cell_type": "code",
   "execution_count": 17,
   "metadata": {},
   "outputs": [],
   "source": [
    "sum_odds_sim_ann = try_sim_ann(sum_odds_problem, [0] * 10, 100)"
   ]
  },
  {
   "cell_type": "code",
   "execution_count": 18,
   "metadata": {},
   "outputs": [
    {
     "data": {
      "text/html": [
       "<div>\n",
       "<style scoped>\n",
       "    .dataframe tbody tr th:only-of-type {\n",
       "        vertical-align: middle;\n",
       "    }\n",
       "\n",
       "    .dataframe tbody tr th {\n",
       "        vertical-align: top;\n",
       "    }\n",
       "\n",
       "    .dataframe thead th {\n",
       "        text-align: right;\n",
       "    }\n",
       "</style>\n",
       "<table border=\"1\" class=\"dataframe\">\n",
       "  <thead>\n",
       "    <tr style=\"text-align: right;\">\n",
       "      <th></th>\n",
       "      <th>Fitness Mean</th>\n",
       "      <th>Fitness Std.</th>\n",
       "      <th>Fitness Median</th>\n",
       "      <th>Fitness Min</th>\n",
       "      <th>Fitness Max</th>\n",
       "      <th>Time Mean</th>\n",
       "    </tr>\n",
       "    <tr>\n",
       "      <th>max-attemtps</th>\n",
       "      <th></th>\n",
       "      <th></th>\n",
       "      <th></th>\n",
       "      <th></th>\n",
       "      <th></th>\n",
       "      <th></th>\n",
       "    </tr>\n",
       "  </thead>\n",
       "  <tbody>\n",
       "    <tr>\n",
       "      <td>1</td>\n",
       "      <td>15.9</td>\n",
       "      <td>8.265726</td>\n",
       "      <td>14.5</td>\n",
       "      <td>8.0</td>\n",
       "      <td>36.0</td>\n",
       "      <td>270.5</td>\n",
       "    </tr>\n",
       "    <tr>\n",
       "      <td>2</td>\n",
       "      <td>32.9</td>\n",
       "      <td>10.268073</td>\n",
       "      <td>37.5</td>\n",
       "      <td>17.0</td>\n",
       "      <td>49.0</td>\n",
       "      <td>550.8</td>\n",
       "    </tr>\n",
       "    <tr>\n",
       "      <td>3</td>\n",
       "      <td>49.0</td>\n",
       "      <td>11.537379</td>\n",
       "      <td>51.5</td>\n",
       "      <td>28.0</td>\n",
       "      <td>64.0</td>\n",
       "      <td>797.2</td>\n",
       "    </tr>\n",
       "    <tr>\n",
       "      <td>4</td>\n",
       "      <td>57.3</td>\n",
       "      <td>7.986795</td>\n",
       "      <td>55.5</td>\n",
       "      <td>49.0</td>\n",
       "      <td>72.0</td>\n",
       "      <td>1070.3</td>\n",
       "    </tr>\n",
       "    <tr>\n",
       "      <td>5</td>\n",
       "      <td>57.3</td>\n",
       "      <td>7.986795</td>\n",
       "      <td>55.5</td>\n",
       "      <td>49.0</td>\n",
       "      <td>72.0</td>\n",
       "      <td>886.6</td>\n",
       "    </tr>\n",
       "    <tr>\n",
       "      <td>...</td>\n",
       "      <td>...</td>\n",
       "      <td>...</td>\n",
       "      <td>...</td>\n",
       "      <td>...</td>\n",
       "      <td>...</td>\n",
       "      <td>...</td>\n",
       "    </tr>\n",
       "    <tr>\n",
       "      <td>96</td>\n",
       "      <td>89.6</td>\n",
       "      <td>0.843274</td>\n",
       "      <td>90.0</td>\n",
       "      <td>88.0</td>\n",
       "      <td>90.0</td>\n",
       "      <td>5872.9</td>\n",
       "    </tr>\n",
       "    <tr>\n",
       "      <td>97</td>\n",
       "      <td>89.6</td>\n",
       "      <td>0.843274</td>\n",
       "      <td>90.0</td>\n",
       "      <td>88.0</td>\n",
       "      <td>90.0</td>\n",
       "      <td>5944.6</td>\n",
       "    </tr>\n",
       "    <tr>\n",
       "      <td>98</td>\n",
       "      <td>89.6</td>\n",
       "      <td>0.843274</td>\n",
       "      <td>90.0</td>\n",
       "      <td>88.0</td>\n",
       "      <td>90.0</td>\n",
       "      <td>5805.8</td>\n",
       "    </tr>\n",
       "    <tr>\n",
       "      <td>99</td>\n",
       "      <td>89.6</td>\n",
       "      <td>0.843274</td>\n",
       "      <td>90.0</td>\n",
       "      <td>88.0</td>\n",
       "      <td>90.0</td>\n",
       "      <td>5866.9</td>\n",
       "    </tr>\n",
       "    <tr>\n",
       "      <td>100</td>\n",
       "      <td>89.6</td>\n",
       "      <td>0.843274</td>\n",
       "      <td>90.0</td>\n",
       "      <td>88.0</td>\n",
       "      <td>90.0</td>\n",
       "      <td>5802.2</td>\n",
       "    </tr>\n",
       "  </tbody>\n",
       "</table>\n",
       "<p>100 rows × 6 columns</p>\n",
       "</div>"
      ],
      "text/plain": [
       "              Fitness Mean  Fitness Std.  Fitness Median  Fitness Min  \\\n",
       "max-attemtps                                                            \n",
       "1                     15.9      8.265726            14.5          8.0   \n",
       "2                     32.9     10.268073            37.5         17.0   \n",
       "3                     49.0     11.537379            51.5         28.0   \n",
       "4                     57.3      7.986795            55.5         49.0   \n",
       "5                     57.3      7.986795            55.5         49.0   \n",
       "...                    ...           ...             ...          ...   \n",
       "96                    89.6      0.843274            90.0         88.0   \n",
       "97                    89.6      0.843274            90.0         88.0   \n",
       "98                    89.6      0.843274            90.0         88.0   \n",
       "99                    89.6      0.843274            90.0         88.0   \n",
       "100                   89.6      0.843274            90.0         88.0   \n",
       "\n",
       "              Fitness Max  Time Mean  \n",
       "max-attemtps                          \n",
       "1                    36.0      270.5  \n",
       "2                    49.0      550.8  \n",
       "3                    64.0      797.2  \n",
       "4                    72.0     1070.3  \n",
       "5                    72.0      886.6  \n",
       "...                   ...        ...  \n",
       "96                   90.0     5872.9  \n",
       "97                   90.0     5944.6  \n",
       "98                   90.0     5805.8  \n",
       "99                   90.0     5866.9  \n",
       "100                  90.0     5802.2  \n",
       "\n",
       "[100 rows x 6 columns]"
      ]
     },
     "execution_count": 18,
     "metadata": {},
     "output_type": "execute_result"
    }
   ],
   "source": [
    "sum_odds_sim_ann_agg = show_aggregates(sum_odds_sim_ann)\n",
    "sum_odds_sim_ann_agg"
   ]
  },
  {
   "cell_type": "code",
   "execution_count": 19,
   "metadata": {},
   "outputs": [
    {
     "data": {
      "text/html": [
       "<div>\n",
       "<style scoped>\n",
       "    .dataframe tbody tr th:only-of-type {\n",
       "        vertical-align: middle;\n",
       "    }\n",
       "\n",
       "    .dataframe tbody tr th {\n",
       "        vertical-align: top;\n",
       "    }\n",
       "\n",
       "    .dataframe thead th {\n",
       "        text-align: right;\n",
       "    }\n",
       "</style>\n",
       "<table border=\"1\" class=\"dataframe\">\n",
       "  <thead>\n",
       "    <tr style=\"text-align: right;\">\n",
       "      <th></th>\n",
       "      <th>max-attemtps</th>\n",
       "      <th>trial-n</th>\n",
       "      <th>best-state</th>\n",
       "      <th>best-fit-score</th>\n",
       "      <th>seed</th>\n",
       "      <th>time</th>\n",
       "    </tr>\n",
       "  </thead>\n",
       "  <tbody>\n",
       "    <tr>\n",
       "      <td>0</td>\n",
       "      <td>1</td>\n",
       "      <td>0</td>\n",
       "      <td>[0, 4, 0, 0, 0, 2, 5, 0, 3, 6]</td>\n",
       "      <td>8.0</td>\n",
       "      <td>353351277</td>\n",
       "      <td>555</td>\n",
       "    </tr>\n",
       "    <tr>\n",
       "      <td>1</td>\n",
       "      <td>1</td>\n",
       "      <td>1</td>\n",
       "      <td>[5, 0, 1, 0, 3, 6, 6, 0, 0, 9]</td>\n",
       "      <td>18.0</td>\n",
       "      <td>243834150</td>\n",
       "      <td>383</td>\n",
       "    </tr>\n",
       "    <tr>\n",
       "      <td>2</td>\n",
       "      <td>1</td>\n",
       "      <td>2</td>\n",
       "      <td>[8, 0, 0, 0, 9, 9, 0, 0, 0, 0]</td>\n",
       "      <td>18.0</td>\n",
       "      <td>453828290</td>\n",
       "      <td>155</td>\n",
       "    </tr>\n",
       "    <tr>\n",
       "      <td>3</td>\n",
       "      <td>1</td>\n",
       "      <td>3</td>\n",
       "      <td>[3, 0, 0, 9, 0, 0, 0, 0, 0, 0]</td>\n",
       "      <td>12.0</td>\n",
       "      <td>864648086</td>\n",
       "      <td>112</td>\n",
       "    </tr>\n",
       "    <tr>\n",
       "      <td>4</td>\n",
       "      <td>1</td>\n",
       "      <td>4</td>\n",
       "      <td>[3, 5, 0, 0, 9, 5, 7, 6, 7, 2]</td>\n",
       "      <td>36.0</td>\n",
       "      <td>530946998</td>\n",
       "      <td>409</td>\n",
       "    </tr>\n",
       "    <tr>\n",
       "      <td>...</td>\n",
       "      <td>...</td>\n",
       "      <td>...</td>\n",
       "      <td>...</td>\n",
       "      <td>...</td>\n",
       "      <td>...</td>\n",
       "      <td>...</td>\n",
       "    </tr>\n",
       "    <tr>\n",
       "      <td>995</td>\n",
       "      <td>100</td>\n",
       "      <td>5</td>\n",
       "      <td>[9, 9, 9, 9, 9, 9, 9, 9, 7, 9]</td>\n",
       "      <td>88.0</td>\n",
       "      <td>969811007</td>\n",
       "      <td>5086</td>\n",
       "    </tr>\n",
       "    <tr>\n",
       "      <td>996</td>\n",
       "      <td>100</td>\n",
       "      <td>6</td>\n",
       "      <td>[9, 9, 9, 9, 9, 9, 9, 9, 9, 9]</td>\n",
       "      <td>90.0</td>\n",
       "      <td>473738812</td>\n",
       "      <td>5659</td>\n",
       "    </tr>\n",
       "    <tr>\n",
       "      <td>997</td>\n",
       "      <td>100</td>\n",
       "      <td>7</td>\n",
       "      <td>[9, 9, 9, 9, 9, 9, 9, 7, 9, 9]</td>\n",
       "      <td>88.0</td>\n",
       "      <td>766904090</td>\n",
       "      <td>4641</td>\n",
       "    </tr>\n",
       "    <tr>\n",
       "      <td>998</td>\n",
       "      <td>100</td>\n",
       "      <td>8</td>\n",
       "      <td>[9, 9, 9, 9, 9, 9, 9, 9, 9, 9]</td>\n",
       "      <td>90.0</td>\n",
       "      <td>840342714</td>\n",
       "      <td>4947</td>\n",
       "    </tr>\n",
       "    <tr>\n",
       "      <td>999</td>\n",
       "      <td>100</td>\n",
       "      <td>9</td>\n",
       "      <td>[9, 9, 9, 9, 9, 9, 9, 9, 9, 9]</td>\n",
       "      <td>90.0</td>\n",
       "      <td>780748506</td>\n",
       "      <td>7318</td>\n",
       "    </tr>\n",
       "  </tbody>\n",
       "</table>\n",
       "<p>1000 rows × 6 columns</p>\n",
       "</div>"
      ],
      "text/plain": [
       "     max-attemtps  trial-n                      best-state  best-fit-score  \\\n",
       "0               1        0  [0, 4, 0, 0, 0, 2, 5, 0, 3, 6]             8.0   \n",
       "1               1        1  [5, 0, 1, 0, 3, 6, 6, 0, 0, 9]            18.0   \n",
       "2               1        2  [8, 0, 0, 0, 9, 9, 0, 0, 0, 0]            18.0   \n",
       "3               1        3  [3, 0, 0, 9, 0, 0, 0, 0, 0, 0]            12.0   \n",
       "4               1        4  [3, 5, 0, 0, 9, 5, 7, 6, 7, 2]            36.0   \n",
       "..            ...      ...                             ...             ...   \n",
       "995           100        5  [9, 9, 9, 9, 9, 9, 9, 9, 7, 9]            88.0   \n",
       "996           100        6  [9, 9, 9, 9, 9, 9, 9, 9, 9, 9]            90.0   \n",
       "997           100        7  [9, 9, 9, 9, 9, 9, 9, 7, 9, 9]            88.0   \n",
       "998           100        8  [9, 9, 9, 9, 9, 9, 9, 9, 9, 9]            90.0   \n",
       "999           100        9  [9, 9, 9, 9, 9, 9, 9, 9, 9, 9]            90.0   \n",
       "\n",
       "          seed  time  \n",
       "0    353351277   555  \n",
       "1    243834150   383  \n",
       "2    453828290   155  \n",
       "3    864648086   112  \n",
       "4    530946998   409  \n",
       "..         ...   ...  \n",
       "995  969811007  5086  \n",
       "996  473738812  5659  \n",
       "997  766904090  4641  \n",
       "998  840342714  4947  \n",
       "999  780748506  7318  \n",
       "\n",
       "[1000 rows x 6 columns]"
      ]
     },
     "execution_count": 19,
     "metadata": {},
     "output_type": "execute_result"
    }
   ],
   "source": [
    "sum_odds_sim_ann"
   ]
  },
  {
   "cell_type": "code",
   "execution_count": 31,
   "metadata": {},
   "outputs": [
    {
     "data": {
      "image/png": "[encoded data removed]",
      "text/plain": [
       "<Figure size 432x288 with 1 Axes>"
      ]
     },
     "metadata": {
      "needs_background": "light"
     },
     "output_type": "display_data"
    },
    {
     "data": {
      "image/png": "[encoded data removed]",
      "text/plain": [
       "<Figure size 432x288 with 1 Axes>"
      ]
     },
     "metadata": {
      "needs_background": "light"
     },
     "output_type": "display_data"
    }
   ],
   "source": [
    "show_charts(sum_odds_sim_ann_agg, 'Sum Odds Simulated Annealing')"
   ]
  },
  {
   "cell_type": "code",
   "execution_count": 32,
   "metadata": {},
   "outputs": [],
   "source": [
    "sum_odds_genetic = try_genetic(sum_odds_problem, 100)"
   ]
  },
  {
   "cell_type": "code",
   "execution_count": 33,
   "metadata": {},
   "outputs": [
    {
     "data": {
      "image/png": "[encoded data removed]",
      "text/plain": [
       "<Figure size 432x288 with 1 Axes>"
      ]
     },
     "metadata": {
      "needs_background": "light"
     },
     "output_type": "display_data"
    },
    {
     "data": {
      "image/png": "[encoded data removed]",
      "text/plain": [
       "<Figure size 432x288 with 1 Axes>"
      ]
     },
     "metadata": {
      "needs_background": "light"
     },
     "output_type": "display_data"
    }
   ],
   "source": [
    "sum_odds_genetic_agg = show_aggregates(sum_odds_genetic)\n",
    "show_charts(sum_odds_genetic_agg, 'Sum Odds Genetic Algorithm')"
   ]
  },
  {
   "cell_type": "markdown",
   "metadata": {},
   "source": [
    "It makes sense that fewer iterations show that the genetic algorithms starts with a higher sum of odd numbers where the array of numbers is automatically generated than simulated anneling where the initial array is only of zeros."
   ]
  },
  {
   "cell_type": "code",
   "execution_count": 37,
   "metadata": {},
   "outputs": [
    {
     "data": {
      "text/html": [
       "<div>\n",
       "<style scoped>\n",
       "    .dataframe tbody tr th:only-of-type {\n",
       "        vertical-align: middle;\n",
       "    }\n",
       "\n",
       "    .dataframe tbody tr th {\n",
       "        vertical-align: top;\n",
       "    }\n",
       "\n",
       "    .dataframe thead th {\n",
       "        text-align: right;\n",
       "    }\n",
       "</style>\n",
       "<table border=\"1\" class=\"dataframe\">\n",
       "  <thead>\n",
       "    <tr style=\"text-align: right;\">\n",
       "      <th></th>\n",
       "      <th>max-attemtps</th>\n",
       "      <th>trial-n</th>\n",
       "      <th>best-state</th>\n",
       "      <th>best-fit-score</th>\n",
       "      <th>seed</th>\n",
       "      <th>time</th>\n",
       "    </tr>\n",
       "  </thead>\n",
       "  <tbody>\n",
       "    <tr>\n",
       "      <td>990</td>\n",
       "      <td>100</td>\n",
       "      <td>0</td>\n",
       "      <td>[9, 9, 9, 9, 9, 9, 5, 9, 9, 9]</td>\n",
       "      <td>86.0</td>\n",
       "      <td>353351277</td>\n",
       "      <td>2216575</td>\n",
       "    </tr>\n",
       "    <tr>\n",
       "      <td>991</td>\n",
       "      <td>100</td>\n",
       "      <td>1</td>\n",
       "      <td>[9, 9, 7, 9, 9, 9, 9, 9, 9, 9]</td>\n",
       "      <td>88.0</td>\n",
       "      <td>243834150</td>\n",
       "      <td>2181773</td>\n",
       "    </tr>\n",
       "    <tr>\n",
       "      <td>992</td>\n",
       "      <td>100</td>\n",
       "      <td>2</td>\n",
       "      <td>[9, 7, 9, 9, 9, 9, 9, 9, 9, 9]</td>\n",
       "      <td>88.0</td>\n",
       "      <td>453828290</td>\n",
       "      <td>1968660</td>\n",
       "    </tr>\n",
       "    <tr>\n",
       "      <td>993</td>\n",
       "      <td>100</td>\n",
       "      <td>3</td>\n",
       "      <td>[9, 9, 9, 9, 9, 9, 9, 9, 9, 9]</td>\n",
       "      <td>90.0</td>\n",
       "      <td>864648086</td>\n",
       "      <td>2093507</td>\n",
       "    </tr>\n",
       "    <tr>\n",
       "      <td>994</td>\n",
       "      <td>100</td>\n",
       "      <td>4</td>\n",
       "      <td>[7, 9, 7, 9, 9, 9, 9, 9, 9, 5]</td>\n",
       "      <td>82.0</td>\n",
       "      <td>530946998</td>\n",
       "      <td>1283510</td>\n",
       "    </tr>\n",
       "    <tr>\n",
       "      <td>995</td>\n",
       "      <td>100</td>\n",
       "      <td>5</td>\n",
       "      <td>[9, 9, 9, 7, 7, 9, 9, 9, 9, 9]</td>\n",
       "      <td>86.0</td>\n",
       "      <td>969811007</td>\n",
       "      <td>1910327</td>\n",
       "    </tr>\n",
       "    <tr>\n",
       "      <td>996</td>\n",
       "      <td>100</td>\n",
       "      <td>6</td>\n",
       "      <td>[7, 9, 9, 9, 9, 9, 9, 9, 5, 9]</td>\n",
       "      <td>84.0</td>\n",
       "      <td>473738812</td>\n",
       "      <td>1279793</td>\n",
       "    </tr>\n",
       "    <tr>\n",
       "      <td>997</td>\n",
       "      <td>100</td>\n",
       "      <td>7</td>\n",
       "      <td>[9, 7, 7, 9, 9, 9, 9, 9, 9, 9]</td>\n",
       "      <td>86.0</td>\n",
       "      <td>766904090</td>\n",
       "      <td>1344927</td>\n",
       "    </tr>\n",
       "    <tr>\n",
       "      <td>998</td>\n",
       "      <td>100</td>\n",
       "      <td>8</td>\n",
       "      <td>[9, 9, 9, 9, 9, 9, 7, 9, 9, 9]</td>\n",
       "      <td>88.0</td>\n",
       "      <td>840342714</td>\n",
       "      <td>3130667</td>\n",
       "    </tr>\n",
       "    <tr>\n",
       "      <td>999</td>\n",
       "      <td>100</td>\n",
       "      <td>9</td>\n",
       "      <td>[7, 9, 7, 9, 9, 9, 9, 9, 9, 9]</td>\n",
       "      <td>86.0</td>\n",
       "      <td>780748506</td>\n",
       "      <td>1937635</td>\n",
       "    </tr>\n",
       "  </tbody>\n",
       "</table>\n",
       "</div>"
      ],
      "text/plain": [
       "     max-attemtps  trial-n                      best-state  best-fit-score  \\\n",
       "990           100        0  [9, 9, 9, 9, 9, 9, 5, 9, 9, 9]            86.0   \n",
       "991           100        1  [9, 9, 7, 9, 9, 9, 9, 9, 9, 9]            88.0   \n",
       "992           100        2  [9, 7, 9, 9, 9, 9, 9, 9, 9, 9]            88.0   \n",
       "993           100        3  [9, 9, 9, 9, 9, 9, 9, 9, 9, 9]            90.0   \n",
       "994           100        4  [7, 9, 7, 9, 9, 9, 9, 9, 9, 5]            82.0   \n",
       "995           100        5  [9, 9, 9, 7, 7, 9, 9, 9, 9, 9]            86.0   \n",
       "996           100        6  [7, 9, 9, 9, 9, 9, 9, 9, 5, 9]            84.0   \n",
       "997           100        7  [9, 7, 7, 9, 9, 9, 9, 9, 9, 9]            86.0   \n",
       "998           100        8  [9, 9, 9, 9, 9, 9, 7, 9, 9, 9]            88.0   \n",
       "999           100        9  [7, 9, 7, 9, 9, 9, 9, 9, 9, 9]            86.0   \n",
       "\n",
       "          seed     time  \n",
       "990  353351277  2216575  \n",
       "991  243834150  2181773  \n",
       "992  453828290  1968660  \n",
       "993  864648086  2093507  \n",
       "994  530946998  1283510  \n",
       "995  969811007  1910327  \n",
       "996  473738812  1279793  \n",
       "997  766904090  1344927  \n",
       "998  840342714  3130667  \n",
       "999  780748506  1937635  "
      ]
     },
     "execution_count": 37,
     "metadata": {},
     "output_type": "execute_result"
    }
   ],
   "source": [
    "sum_odds_genetic.iloc[range(990, 1000)]"
   ]
  },
  {
   "cell_type": "code",
   "execution_count": 23,
   "metadata": {},
   "outputs": [],
   "source": [
    "sum_odds_rand_hill = try_rand_hill(sum_odds_problem, [0] * 10, 100)"
   ]
  },
  {
   "cell_type": "code",
   "execution_count": 34,
   "metadata": {},
   "outputs": [
    {
     "data": {
      "image/png": "[encoded data removed]",
      "text/plain": [
       "<Figure size 432x288 with 1 Axes>"
      ]
     },
     "metadata": {
      "needs_background": "light"
     },
     "output_type": "display_data"
    },
    {
     "data": {
      "image/png": "[encoded data removed]",
      "text/plain": [
       "<Figure size 432x288 with 1 Axes>"
      ]
     },
     "metadata": {
      "needs_background": "light"
     },
     "output_type": "display_data"
    }
   ],
   "source": [
    "sum_odds_rand_hill_agg = show_aggregates(sum_odds_rand_hill)\n",
    "show_charts(sum_odds_rand_hill_agg, 'Sum Odds Random Hill Climbling')"
   ]
  },
  {
   "cell_type": "code",
   "execution_count": 25,
   "metadata": {},
   "outputs": [],
   "source": [
    "sum_odds_mimic = try_mimic(sum_odds_problem, 100)"
   ]
  },
  {
   "cell_type": "code",
   "execution_count": 39,
   "metadata": {},
   "outputs": [
    {
     "data": {
      "image/png": "[encoded data removed]",
      "text/plain": [
       "<Figure size 432x288 with 1 Axes>"
      ]
     },
     "metadata": {
      "needs_background": "light"
     },
     "output_type": "display_data"
    },
    {
     "data": {
      "image/png": "[encoded data removed]",
      "text/plain": [
       "<Figure size 432x288 with 1 Axes>"
      ]
     },
     "metadata": {
      "needs_background": "light"
     },
     "output_type": "display_data"
    }
   ],
   "source": [
    "sum_odds_mimic_agg = show_aggregates(sum_odds_mimic)\n",
    "show_charts(sum_odds_mimic_agg, 'Sum Odds MIMIC')"
   ]
  },
  {
   "cell_type": "code",
   "execution_count": 38,
   "metadata": {},
   "outputs": [
    {
     "data": {
      "text/html": [
       "<div>\n",
       "<style scoped>\n",
       "    .dataframe tbody tr th:only-of-type {\n",
       "        vertical-align: middle;\n",
       "    }\n",
       "\n",
       "    .dataframe tbody tr th {\n",
       "        vertical-align: top;\n",
       "    }\n",
       "\n",
       "    .dataframe thead th {\n",
       "        text-align: right;\n",
       "    }\n",
       "</style>\n",
       "<table border=\"1\" class=\"dataframe\">\n",
       "  <thead>\n",
       "    <tr style=\"text-align: right;\">\n",
       "      <th></th>\n",
       "      <th>Fitness Mean</th>\n",
       "      <th>Fitness Std.</th>\n",
       "      <th>Fitness Median</th>\n",
       "      <th>Fitness Min</th>\n",
       "      <th>Fitness Max</th>\n",
       "      <th>Time Mean</th>\n",
       "    </tr>\n",
       "    <tr>\n",
       "      <th>max-attemtps</th>\n",
       "      <th></th>\n",
       "      <th></th>\n",
       "      <th></th>\n",
       "      <th></th>\n",
       "      <th></th>\n",
       "      <th></th>\n",
       "    </tr>\n",
       "  </thead>\n",
       "  <tbody>\n",
       "    <tr>\n",
       "      <td>91</td>\n",
       "      <td>83.0</td>\n",
       "      <td>2.867442</td>\n",
       "      <td>83.0</td>\n",
       "      <td>78.0</td>\n",
       "      <td>88.0</td>\n",
       "      <td>2944272.4</td>\n",
       "    </tr>\n",
       "    <tr>\n",
       "      <td>92</td>\n",
       "      <td>83.0</td>\n",
       "      <td>2.867442</td>\n",
       "      <td>83.0</td>\n",
       "      <td>78.0</td>\n",
       "      <td>88.0</td>\n",
       "      <td>2990188.5</td>\n",
       "    </tr>\n",
       "    <tr>\n",
       "      <td>93</td>\n",
       "      <td>83.0</td>\n",
       "      <td>2.867442</td>\n",
       "      <td>83.0</td>\n",
       "      <td>78.0</td>\n",
       "      <td>88.0</td>\n",
       "      <td>3020880.0</td>\n",
       "    </tr>\n",
       "    <tr>\n",
       "      <td>94</td>\n",
       "      <td>83.0</td>\n",
       "      <td>2.867442</td>\n",
       "      <td>83.0</td>\n",
       "      <td>78.0</td>\n",
       "      <td>88.0</td>\n",
       "      <td>3046267.7</td>\n",
       "    </tr>\n",
       "    <tr>\n",
       "      <td>95</td>\n",
       "      <td>83.0</td>\n",
       "      <td>2.867442</td>\n",
       "      <td>83.0</td>\n",
       "      <td>78.0</td>\n",
       "      <td>88.0</td>\n",
       "      <td>3074075.3</td>\n",
       "    </tr>\n",
       "    <tr>\n",
       "      <td>96</td>\n",
       "      <td>83.0</td>\n",
       "      <td>2.867442</td>\n",
       "      <td>83.0</td>\n",
       "      <td>78.0</td>\n",
       "      <td>88.0</td>\n",
       "      <td>3110935.2</td>\n",
       "    </tr>\n",
       "    <tr>\n",
       "      <td>97</td>\n",
       "      <td>83.0</td>\n",
       "      <td>2.867442</td>\n",
       "      <td>83.0</td>\n",
       "      <td>78.0</td>\n",
       "      <td>88.0</td>\n",
       "      <td>3137533.9</td>\n",
       "    </tr>\n",
       "    <tr>\n",
       "      <td>98</td>\n",
       "      <td>83.0</td>\n",
       "      <td>2.867442</td>\n",
       "      <td>83.0</td>\n",
       "      <td>78.0</td>\n",
       "      <td>88.0</td>\n",
       "      <td>3175028.5</td>\n",
       "    </tr>\n",
       "    <tr>\n",
       "      <td>99</td>\n",
       "      <td>83.0</td>\n",
       "      <td>2.867442</td>\n",
       "      <td>83.0</td>\n",
       "      <td>78.0</td>\n",
       "      <td>88.0</td>\n",
       "      <td>3196644.8</td>\n",
       "    </tr>\n",
       "    <tr>\n",
       "      <td>100</td>\n",
       "      <td>83.0</td>\n",
       "      <td>2.867442</td>\n",
       "      <td>83.0</td>\n",
       "      <td>78.0</td>\n",
       "      <td>88.0</td>\n",
       "      <td>3308422.6</td>\n",
       "    </tr>\n",
       "  </tbody>\n",
       "</table>\n",
       "</div>"
      ],
      "text/plain": [
       "              Fitness Mean  Fitness Std.  Fitness Median  Fitness Min  \\\n",
       "max-attemtps                                                            \n",
       "91                    83.0      2.867442            83.0         78.0   \n",
       "92                    83.0      2.867442            83.0         78.0   \n",
       "93                    83.0      2.867442            83.0         78.0   \n",
       "94                    83.0      2.867442            83.0         78.0   \n",
       "95                    83.0      2.867442            83.0         78.0   \n",
       "96                    83.0      2.867442            83.0         78.0   \n",
       "97                    83.0      2.867442            83.0         78.0   \n",
       "98                    83.0      2.867442            83.0         78.0   \n",
       "99                    83.0      2.867442            83.0         78.0   \n",
       "100                   83.0      2.867442            83.0         78.0   \n",
       "\n",
       "              Fitness Max  Time Mean  \n",
       "max-attemtps                          \n",
       "91                   88.0  2944272.4  \n",
       "92                   88.0  2990188.5  \n",
       "93                   88.0  3020880.0  \n",
       "94                   88.0  3046267.7  \n",
       "95                   88.0  3074075.3  \n",
       "96                   88.0  3110935.2  \n",
       "97                   88.0  3137533.9  \n",
       "98                   88.0  3175028.5  \n",
       "99                   88.0  3196644.8  \n",
       "100                  88.0  3308422.6  "
      ]
     },
     "execution_count": 38,
     "metadata": {},
     "output_type": "execute_result"
    }
   ],
   "source": [
    "sum_odds_mimic_agg.iloc[range(90,100)]"
   ]
  },
  {
   "cell_type": "code",
   "execution_count": null,
   "metadata": {},
   "outputs": [],
   "source": []
  }
 ],
 "metadata": {
  "kernelspec": {
   "display_name": "Python 3",
   "language": "python",
   "name": "python3"
  },
  "language_info": {
   "codemirror_mode": {
    "name": "ipython",
    "version": 3
   },
   "file_extension": ".py",
   "mimetype": "text/x-python",
   "name": "python",
   "nbconvert_exporter": "python",
   "pygments_lexer": "ipython3",
   "version": "3.7.4"
  }
 },
 "nbformat": 4,
 "nbformat_minor": 2
}
