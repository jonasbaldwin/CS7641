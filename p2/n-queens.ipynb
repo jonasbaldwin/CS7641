{
 "cells": [
  {
   "cell_type": "markdown",
   "metadata": {},
   "source": [
    "# Project 2\n",
    "This is project 2. I did stuff."
   ]
  },
  {
   "cell_type": "code",
   "execution_count": 2,
   "metadata": {
    "pycharm": {
     "is_executing": false
    }
   },
   "outputs": [
    {
     "traceback": [
      "\u001b[0;31m---------------------------------------------------------------------------\u001b[0m",
      "\u001b[0;31mModuleNotFoundError\u001b[0m                       Traceback (most recent call last)",
      "\u001b[0;32m<ipython-input-2-5e02a946f859>\u001b[0m in \u001b[0;36m<module>\u001b[0;34m\u001b[0m\n\u001b[1;32m      3\u001b[0m \u001b[0;32mimport\u001b[0m \u001b[0mpydotplus\u001b[0m\u001b[0;34m\u001b[0m\u001b[0;34m\u001b[0m\u001b[0m\n\u001b[1;32m      4\u001b[0m \u001b[0;32mimport\u001b[0m \u001b[0mpprint\u001b[0m \u001b[0;32mas\u001b[0m \u001b[0mpp\u001b[0m\u001b[0;34m\u001b[0m\u001b[0;34m\u001b[0m\u001b[0m\n\u001b[0;32m----> 5\u001b[0;31m \u001b[0;32mimport\u001b[0m \u001b[0mmlrose\u001b[0m\u001b[0;34m\u001b[0m\u001b[0;34m\u001b[0m\u001b[0m\n\u001b[0m\u001b[1;32m      6\u001b[0m \u001b[0;32mimport\u001b[0m \u001b[0mpandas\u001b[0m \u001b[0;32mas\u001b[0m \u001b[0mpd\u001b[0m\u001b[0;34m\u001b[0m\u001b[0;34m\u001b[0m\u001b[0m\n\u001b[1;32m      7\u001b[0m \u001b[0;32mimport\u001b[0m \u001b[0mrandom\u001b[0m\u001b[0;34m\u001b[0m\u001b[0;34m\u001b[0m\u001b[0m\n",
      "\u001b[0;31mModuleNotFoundError\u001b[0m: No module named 'mlrose'"
     ],
     "ename": "ModuleNotFoundError",
     "evalue": "No module named 'mlrose'",
     "output_type": "error"
    }
   ],
   "source": [
    "import numpy as np\n",
    "import pydotplus\n",
    "import pprint as pp\n",
    "import mlrose\n",
    "import pandas as pd\n",
    "import random\n",
    "import datetime"
   ]
  },
  {
   "cell_type": "code",
   "execution_count": null,
   "metadata": {
    "pycharm": {
     "is_executing": false
    }
   },
   "outputs": [],
   "source": [
    "# load local files\n",
    "%run util/util\n",
    "%run util/stats\n",
    "%run util/charts"
   ]
  },
  {
   "cell_type": "code",
   "execution_count": null,
   "metadata": {
    "pycharm": {
     "is_executing": false
    }
   },
   "outputs": [],
   "source": [
    "max_trials = 10\n",
    "rand_seeds = random.sample(range(1, 999999999), max_trials)"
   ]
  },
  {
   "cell_type": "code",
   "execution_count": null,
   "metadata": {
    "pycharm": {
     "is_executing": false
    }
   },
   "outputs": [],
   "source": [
    "def print_groups(g):\n",
    "    for key, item in g:\n",
    "        print(g.get_group(key), \"\\n\\n\")"
   ]
  },
  {
   "cell_type": "code",
   "execution_count": null,
   "metadata": {
    "pycharm": {
     "is_executing": false
    }
   },
   "outputs": [],
   "source": [
    "def show_aggregates(attempts):\n",
    "    att_group = attempts.groupby('max-attemtps')\n",
    "    fitness_agg = att_group['best-fit-score'].agg([np.mean, np.std, np.median, np.min, np.max])\n",
    "    fitness_agg.columns = ['Fitness Mean', 'Fitness Std.', 'Fitness Median', 'Fitness Min', 'Fitness Max']\n",
    "    time_agg = att_group['time'].agg([np.mean])\n",
    "    time_agg.columns = ['Time Mean']\n",
    "    data_agg_comb = pd.concat([fitness_agg, time_agg], axis=1, sort=False)\n",
    "    return data_agg_comb"
   ]
  },
  {
   "cell_type": "code",
   "execution_count": null,
   "metadata": {
    "pycharm": {
     "is_executing": false
    }
   },
   "outputs": [],
   "source": [
    "def try_problem(prob_f, attempt_max):\n",
    "    attempts = []\n",
    "    for a in range(1, attempt_max + 1):\n",
    "        for t in range(len(rand_seeds)):\n",
    "            seed = rand_seeds[t]\n",
    "            start_time = datetime.datetime.now()\n",
    "            best_state, best_fit_score = prob_f(a, seed)\n",
    "            total_delta = datetime.datetime.now() - start_time\n",
    "            microseconds  = total_delta.seconds * 1000000 + total_delta.microseconds\n",
    "            attempts.append([a, t, best_state, best_fit_score, seed, microseconds])\n",
    "    df = pd.DataFrame(attempts, columns=['max-attemtps', 'trial-n', 'best-state', 'best-fit-score', 'seed', 'time'])\n",
    "    \n",
    "    return df"
   ]
  },
  {
   "cell_type": "code",
   "execution_count": null,
   "metadata": {
    "pycharm": {
     "is_executing": false
    }
   },
   "outputs": [],
   "source": [
    "def try_sim_ann(prob, initial_state, attempt_max):\n",
    "    def p(attempts, seed):\n",
    "        return mlrose.simulated_annealing(prob, schedule = mlrose.ExpDecay(), max_attempts = attempts, \n",
    "                                                              max_iters = 1000, init_state = initial_state, \n",
    "                                                              random_state = seed)\n",
    "    return try_problem(p, attempt_max)"
   ]
  },
  {
   "cell_type": "code",
   "execution_count": null,
   "metadata": {
    "pycharm": {
     "is_executing": false
    }
   },
   "outputs": [],
   "source": [
    "def try_genetic(prob, attempt_max):\n",
    "    def p(attempts, seed):\n",
    "        return mlrose.genetic_alg(prob, max_attempts=attempts, random_state=seed)\n",
    "    return try_problem(p, attempt_max)"
   ]
  },
  {
   "cell_type": "code",
   "execution_count": null,
   "metadata": {
    "pycharm": {
     "is_executing": false
    }
   },
   "outputs": [],
   "source": [
    "def try_rand_hill(prob, initial_state, attempt_max):\n",
    "    def p(attempts, seed):\n",
    "        return mlrose.random_hill_climb(prob, max_attempts=attempts, random_state=seed)\n",
    "    return try_problem(p, attempt_max)"
   ]
  },
  {
   "cell_type": "code",
   "execution_count": null,
   "metadata": {
    "pycharm": {
     "is_executing": false
    }
   },
   "outputs": [],
   "source": [
    "def try_mimic(prob, attempt_max):\n",
    "    def p(attempts, seed):\n",
    "        return mlrose.mimic(prob, max_attempts=attempts, random_state=seed)\n",
    "    return try_problem(p, attempt_max)"
   ]
  },
  {
   "cell_type": "code",
   "execution_count": null,
   "metadata": {
    "pycharm": {
     "is_executing": false
    }
   },
   "outputs": [],
   "source": [
    "def show_learning_rate(data, title, ylim=None, xlim=None):\n",
    "    plt.plot(data['Fitness Mean'], 'b', data['Fitness Median'], 'r')\n",
    "    plt.legend(['Mean Fitness', 'Median Fitness'], loc='lower right')\n",
    "    plt.xlabel('iterations')\n",
    "    plt.ylabel('fitness')\n",
    "    if ylim is not None:\n",
    "        plt.ylim(ylim[0],ylim[1])\n",
    "    if xlim is not None:\n",
    "        plt.xlim(xlim[0],xlim[1])\n",
    "    plt.title(title)\n",
    "    plt.show()"
   ]
  },
  {
   "cell_type": "code",
   "execution_count": null,
   "metadata": {
    "pycharm": {
     "is_executing": false
    }
   },
   "outputs": [],
   "source": [
    "def show_learning_time(data, title):\n",
    "    plt.plot(data['Time Mean'], 'gray')\n",
    "    plt.legend(['Time Mean'], loc='lower right')\n",
    "    plt.xlabel('iterations')\n",
    "    plt.ylabel('time')\n",
    "    plt.title(title)\n",
    "    plt.show()"
   ]
  },
  {
   "cell_type": "code",
   "execution_count": null,
   "metadata": {
    "pycharm": {
     "is_executing": false
    }
   },
   "outputs": [],
   "source": [
    "def show_charts(data, title):\n",
    "    show_learning_rate(data, title, ylim=[15,29])\n",
    "    show_learning_time(data, title + ' Time')"
   ]
  },
  {
   "cell_type": "markdown",
   "metadata": {},
   "source": [
    "## n-queens\n",
    "The `n-queens` problem is a classic problem for exploring genetic algorithms."
   ]
  },
  {
   "cell_type": "code",
   "execution_count": null,
   "metadata": {
    "pycharm": {
     "is_executing": false
    }
   },
   "outputs": [],
   "source": [
    "# derived from https://en.wikipedia.org/wiki/Triangular_number and https://www.mathsisfun.com/algebra/triangular-numbers.html\n",
    "def triangle_number(n):\n",
    "    return n*(n+1)/2\n",
    "\n",
    "def valid_queens_state(state):\n",
    "    # used code from https://stackoverflow.com/questions/13252333/python-check-if-all-elements-of-a-list-are-the-same-type\n",
    "    return all(isinstance(x, int) for x in state) and min(state) >= 0 and max(state) <= len(state) - 1\n",
    "\n",
    "# this is a modified version of a similar function found here https://github.com/gkhayes/mlrose/blob/master/tutorial_examples.ipynb\n",
    "def n_queens_fitness_fn(state):\n",
    "    fitness = 0\n",
    "    for i in range(len(state) - 1):\n",
    "        for j in range(i + 1, len(state)):\n",
    "            # Check for horizontal, diagonal-up and diagonal-down attacks\n",
    "            if (state[j] != state[i]) and (state[j] != state[i] + (j - i)) and (state[j] != state[i] - (j - i)):\n",
    "                fitness += 1\n",
    "\n",
    "    return fitness\n",
    "\n",
    "# modified https://solarianprogrammer.com/2017/11/20/eight-queens-puzzle-python/\n",
    "def show_full_board(state):\n",
    "    size = len(state)\n",
    "    board = \"\"\n",
    "    for row in range(size):\n",
    "        line = \"\"\n",
    "        for column in range(size):\n",
    "            if state[row] == column:\n",
    "                line += \"* \"\n",
    "            else:\n",
    "                line += \". \"\n",
    "        board = board + line + \"\\n\"\n",
    "    return board"
   ]
  },
  {
   "cell_type": "code",
   "execution_count": null,
   "metadata": {
    "pycharm": {
     "is_executing": false
    }
   },
   "outputs": [],
   "source": [
    "pp.pprint(show_full_board([1,3,5,7,2,0,6,4]))"
   ]
  },
  {
   "cell_type": "code",
   "execution_count": null,
   "metadata": {
    "pycharm": {
     "is_executing": false
    }
   },
   "outputs": [],
   "source": [
    "# run a few quick tests to make sure my functions are working\n",
    "test_states = [{\"s\":[0,1,2,3], \"v\": True, \"es\": 0, \"eb\": \"* . . . \\n. * . . \\n. . * . \\n. . . * \\n\"},\n",
    "               {\"s\":[1,2,3,4], \"v\": False},\n",
    "               {\"s\":[0,1,2,3,4,5,6,7], \"v\": True, \"es\": 0, \"eb\": \"* . . . . . . . \\n. * . . . . . . \\n. . * . . . . . \\n. . . * . . . . \\n. . . . * . . . \\n. . . . . * . . \\n. . . . . . * . \\n. . . . . . . * \\n\"},\n",
    "               {\"s\": [1,4,1,3,5,5,2,7], \"v\": True, \"es\": 26, \"eb\": \". * . . . . . . \\n. . . . * . . . \\n. * . . . . . . \\n. . . * . . . . \\n. . . . . * . . \\n. . . . . * . . \\n. . * . . . . . \\n. . . . . . . * \\n\"},\n",
    "               {\"s\":[1,3,5,7,2,0,6,4], \"v\": True, \"es\": 27, \"eb\": \". * . . . . . . \\n. . . * . . . . \\n. . . . . * . . \\n. . . . . . . * \\n. . * . . . . . \\n* . . . . . . . \\n. . . . . . * . \\n. . . . * . . . \\n\"}]\n",
    "\n",
    "for s in test_states:\n",
    "    show_full_board(s[\"s\"])\n",
    "    if(valid_queens_state(s[\"s\"]) != s[\"v\"]):\n",
    "        raise Exception(\"valid_queens_state is broken. Validity for \" + str(s[\"s\"]) + \n",
    "                        \" was \" + str(valid_queens_state(s[\"s\"])) + \" but should have been \" + str(s[\"v\"]))\n",
    "    if(valid_queens_state(s[\"s\"]) != s[\"v\"] and n_queens_fitness(s[\"s\"]) != s[\"es\"]):\n",
    "        raise Exception(\"n_queens_fitness is broken. Fitness for \" + str(s[\"s\"]) + \n",
    "                        \" was \" + str(n_queens_fitness(s[\"s\"])) + \" but should have been \" + str(s[\"es\"]))\n",
    "    if(valid_queens_state(s[\"s\"]) and show_full_board(s[\"s\"]) != s[\"eb\"]):\n",
    "        raise Exception(\"show_full_board is broken. Fitness for \" + str(s[\"s\"]) + \n",
    "                        \" was \" + str(show_full_board(s[\"s\"])) + \" but should have been \" + str(s[\"eb\"]))\n",
    "    "
   ]
  },
  {
   "cell_type": "code",
   "execution_count": null,
   "metadata": {
    "pycharm": {
     "is_executing": false
    }
   },
   "outputs": [],
   "source": [
    "best_posible_fitness = triangle_number(8 - 1)\n",
    "n_queens_fitness = mlrose.CustomFitness(n_queens_fitness_fn)"
   ]
  },
  {
   "cell_type": "code",
   "execution_count": null,
   "metadata": {
    "pycharm": {
     "is_executing": false
    }
   },
   "outputs": [],
   "source": [
    "#define problem\n",
    "n_queens_problem = mlrose.DiscreteOpt(length = 8, fitness_fn = n_queens_fitness, maximize = True, max_val = 8)"
   ]
  },
  {
   "cell_type": "code",
   "execution_count": null,
   "metadata": {
    "pycharm": {
     "is_executing": false
    }
   },
   "outputs": [],
   "source": [
    "n_queens_fitness_fn([1,3,0,0])"
   ]
  },
  {
   "cell_type": "code",
   "execution_count": null,
   "metadata": {
    "pycharm": {
     "is_executing": false
    }
   },
   "outputs": [],
   "source": [
    "n_queens_fitness_fn([0,0,3,1])"
   ]
  },
  {
   "cell_type": "code",
   "execution_count": null,
   "metadata": {
    "pycharm": {
     "is_executing": false
    }
   },
   "outputs": [],
   "source": [
    "n_queens_fitness_fn([1,3,3,1])"
   ]
  },
  {
   "cell_type": "code",
   "execution_count": null,
   "metadata": {
    "scrolled": false,
    "pycharm": {
     "is_executing": false
    }
   },
   "outputs": [],
   "source": [
    "n_queens_sim_ann = try_sim_ann(n_queens_problem, [0] * 8, 100)"
   ]
  },
  {
   "cell_type": "code",
   "execution_count": null,
   "metadata": {
    "pycharm": {
     "is_executing": false
    }
   },
   "outputs": [],
   "source": [
    "n_queens_sim_ann_agg = show_aggregates(n_queens_sim_ann)"
   ]
  },
  {
   "cell_type": "code",
   "execution_count": null,
   "metadata": {
    "pycharm": {
     "is_executing": false
    }
   },
   "outputs": [],
   "source": [
    "n_queens_sim_ann_agg.iloc[list(range(20,30))]"
   ]
  },
  {
   "cell_type": "code",
   "execution_count": null,
   "metadata": {
    "pycharm": {
     "is_executing": false
    }
   },
   "outputs": [],
   "source": [
    "show_charts(n_queens_sim_ann_agg, 'N-Queens Simulated Annealing')"
   ]
  },
  {
   "cell_type": "code",
   "execution_count": null,
   "metadata": {
    "pycharm": {
     "is_executing": false
    }
   },
   "outputs": [],
   "source": [
    "n_queens_genetic = try_genetic(n_queens_problem, 100)"
   ]
  },
  {
   "cell_type": "code",
   "execution_count": null,
   "metadata": {
    "pycharm": {
     "is_executing": false
    }
   },
   "outputs": [],
   "source": [
    "n_queens_genetic_agg = show_aggregates(n_queens_genetic)"
   ]
  },
  {
   "cell_type": "code",
   "execution_count": null,
   "metadata": {
    "pycharm": {
     "is_executing": false
    }
   },
   "outputs": [],
   "source": [
    "n_queens_genetic_agg.iloc[list(range(10,20))]"
   ]
  },
  {
   "cell_type": "code",
   "execution_count": null,
   "metadata": {
    "pycharm": {
     "is_executing": false
    }
   },
   "outputs": [],
   "source": [
    "show_charts(n_queens_genetic_agg, 'N-Queens Genetic Algorithm')"
   ]
  },
  {
   "cell_type": "code",
   "execution_count": null,
   "metadata": {
    "pycharm": {
     "is_executing": false
    }
   },
   "outputs": [],
   "source": [
    "n_queens_rand_hill = try_rand_hill(n_queens_problem, [0] * 8, 100)"
   ]
  },
  {
   "cell_type": "code",
   "execution_count": null,
   "metadata": {
    "pycharm": {
     "is_executing": false
    }
   },
   "outputs": [],
   "source": [
    "n_queens_rand_hill_agg = show_aggregates(n_queens_rand_hill)\n",
    "show_charts(n_queens_rand_hill_agg, 'N-Queens Random Hill Climbling')"
   ]
  },
  {
   "cell_type": "code",
   "execution_count": null,
   "metadata": {
    "pycharm": {
     "is_executing": false
    }
   },
   "outputs": [],
   "source": [
    "n_queens_rand_hill_agg.iloc[list(range(30,40))]"
   ]
  },
  {
   "cell_type": "code",
   "execution_count": null,
   "metadata": {
    "pycharm": {
     "is_executing": false
    }
   },
   "outputs": [],
   "source": [
    "n_queens_mimic = try_mimic(n_queens_problem, 100)"
   ]
  },
  {
   "cell_type": "code",
   "execution_count": null,
   "metadata": {
    "pycharm": {
     "is_executing": false
    }
   },
   "outputs": [],
   "source": [
    "n_queens_mimic_agg = show_aggregates(n_queens_mimic)\n",
    "show_charts(n_queens_mimic_agg, 'N-Queens MIMIC')"
   ]
  },
  {
   "cell_type": "code",
   "execution_count": null,
   "metadata": {
    "pycharm": {
     "is_executing": false
    }
   },
   "outputs": [],
   "source": [
    "n_queens_mimic_agg.iloc[list(range(0,10))]"
   ]
  },
  {
   "cell_type": "code",
   "execution_count": null,
   "metadata": {
    "pycharm": {
     "is_executing": false
    }
   },
   "outputs": [],
   "source": [
    "n_queens_mimic.iloc[list(range(990,1000))]"
   ]
  },
  {
   "cell_type": "code",
   "execution_count": null,
   "metadata": {
    "pycharm": {
     "is_executing": false
    }
   },
   "outputs": [],
   "source": []
  }
 ],
 "metadata": {
  "kernelspec": {
   "display_name": "Python 3",
   "language": "python",
   "name": "python3"
  },
  "language_info": {
   "codemirror_mode": {
    "name": "ipython",
    "version": 3
   },
   "file_extension": ".py",
   "mimetype": "text/x-python",
   "name": "python",
   "nbconvert_exporter": "python",
   "pygments_lexer": "ipython3",
   "version": "3.7.4"
  }
 },
 "nbformat": 4,
 "nbformat_minor": 2
}