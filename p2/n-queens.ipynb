{
 "cells": [
  {
   "cell_type": "markdown",
   "metadata": {},
   "source": [
    "# Project 2\n",
    "This is project 2. I did stuff."
   ]
  },
  {
   "cell_type": "code",
   "execution_count": 1,
   "metadata": {},
   "outputs": [
    {
     "name": "stderr",
     "output_type": "stream",
     "text": [
      "/usr/local/lib/python3.7/site-packages/sklearn/externals/six.py:31: DeprecationWarning: The module is deprecated in version 0.21 and will be removed in version 0.23 since we've dropped support for Python 2.7. Please rely on the official version of six (https://pypi.org/project/six/).\n",
      "  \"(https://pypi.org/project/six/).\", DeprecationWarning)\n"
     ]
    }
   ],
   "source": [
    "import numpy as np\n",
    "import pydotplus\n",
    "import pprint as pp\n",
    "import mlrose\n",
    "import pandas as pd\n",
    "import random\n",
    "import datetime"
   ]
  },
  {
   "cell_type": "code",
   "execution_count": 2,
   "metadata": {},
   "outputs": [],
   "source": [
    "# load local files\n",
    "%run util/util\n",
    "%run util/stats\n",
    "%run util/charts"
   ]
  },
  {
   "cell_type": "code",
   "execution_count": 3,
   "metadata": {},
   "outputs": [],
   "source": [
    "max_trials = 10\n",
    "rand_seeds = random.sample(range(1, 999999999), max_trials)"
   ]
  },
  {
   "cell_type": "code",
   "execution_count": 4,
   "metadata": {},
   "outputs": [],
   "source": [
    "def print_groups(g):\n",
    "    for key, item in g:\n",
    "        print(g.get_group(key), \"\\n\\n\")"
   ]
  },
  {
   "cell_type": "code",
   "execution_count": 5,
   "metadata": {},
   "outputs": [],
   "source": [
    "def show_aggregates(attempts):\n",
    "    att_group = attempts.groupby('max-attemtps')\n",
    "    fitness_agg = att_group['best-fit-score'].agg([np.mean, np.std, np.median, np.min, np.max])\n",
    "    fitness_agg.columns = ['Fitness Mean', 'Fitness Std.', 'Fitness Median', 'Fitness Min', 'Fitness Max']\n",
    "    time_agg = att_group['time'].agg([np.mean])\n",
    "    time_agg.columns = ['Time Mean']\n",
    "    data_agg_comb = pd.concat([fitness_agg, time_agg], axis=1, sort=False)\n",
    "    return data_agg_comb"
   ]
  },
  {
   "cell_type": "code",
   "execution_count": 6,
   "metadata": {},
   "outputs": [],
   "source": [
    "def try_problem(prob_f, attempt_max):\n",
    "    attempts = []\n",
    "    for a in range(1, attempt_max + 1):\n",
    "        for t in range(len(rand_seeds)):\n",
    "            seed = rand_seeds[t]\n",
    "            start_time = datetime.datetime.now()\n",
    "            best_state, best_fit_score = prob_f(a, seed)\n",
    "            total_delta = datetime.datetime.now() - start_time\n",
    "            microseconds  = total_delta.seconds * 1000000 + total_delta.microseconds\n",
    "            attempts.append([a, t, best_state, best_fit_score, seed, microseconds])\n",
    "    df = pd.DataFrame(attempts, columns=['max-attemtps', 'trial-n', 'best-state', 'best-fit-score', 'seed', 'time'])\n",
    "    \n",
    "    return df"
   ]
  },
  {
   "cell_type": "code",
   "execution_count": 7,
   "metadata": {},
   "outputs": [],
   "source": [
    "def try_sim_ann(prob, initial_state, attempt_max):\n",
    "    def p(attempts, seed):\n",
    "        return mlrose.simulated_annealing(prob, schedule = mlrose.ExpDecay(), max_attempts = attempts, \n",
    "                                                              max_iters = 1000, init_state = initial_state, \n",
    "                                                              random_state = seed)\n",
    "    return try_problem(p, attempt_max)"
   ]
  },
  {
   "cell_type": "code",
   "execution_count": 8,
   "metadata": {},
   "outputs": [],
   "source": [
    "def try_genetic(prob, attempt_max):\n",
    "    def p(attempts, seed):\n",
    "        return mlrose.genetic_alg(prob, max_attempts=attempts, random_state=seed)\n",
    "    return try_problem(p, attempt_max)"
   ]
  },
  {
   "cell_type": "code",
   "execution_count": 9,
   "metadata": {},
   "outputs": [],
   "source": [
    "def try_rand_hill(prob, initial_state, attempt_max):\n",
    "    def p(attempts, seed):\n",
    "        return mlrose.random_hill_climb(prob, max_attempts=attempts, random_state=seed)\n",
    "    return try_problem(p, attempt_max)"
   ]
  },
  {
   "cell_type": "code",
   "execution_count": 10,
   "metadata": {},
   "outputs": [],
   "source": [
    "def try_mimic(prob, attempt_max):\n",
    "    def p(attempts, seed):\n",
    "        return mlrose.mimic(prob, max_attempts=attempts, random_state=seed)\n",
    "    return try_problem(p, attempt_max)"
   ]
  },
  {
   "cell_type": "code",
   "execution_count": 78,
   "metadata": {},
   "outputs": [],
   "source": [
    "def show_learning_rate(data, title, ylim=None, xlim=None):\n",
    "    plt.plot(data['Fitness Mean'], 'b', data['Fitness Median'], 'r')\n",
    "    plt.legend(['Mean Fitness', 'Median Fitness'], loc='lower right')\n",
    "    plt.xlabel('iterations')\n",
    "    plt.ylabel('fitness')\n",
    "    if ylim is not None:\n",
    "        plt.ylim(ylim[0],ylim[1])\n",
    "    if xlim is not None:\n",
    "        plt.xlim(xlim[0],xlim[1])\n",
    "    plt.title(title)\n",
    "    plt.show()"
   ]
  },
  {
   "cell_type": "code",
   "execution_count": 79,
   "metadata": {},
   "outputs": [],
   "source": [
    "def show_learning_time(data, title):\n",
    "    plt.plot(data['Time Mean'], 'gray')\n",
    "    plt.legend(['Time Mean'], loc='lower right')\n",
    "    plt.xlabel('iterations')\n",
    "    plt.ylabel('time')\n",
    "    plt.title(title)\n",
    "    plt.show()"
   ]
  },
  {
   "cell_type": "code",
   "execution_count": 13,
   "metadata": {},
   "outputs": [],
   "source": [
    "def show_charts(data, title):\n",
    "    show_learning_rate(data, title, ylim=[15,29])\n",
    "    show_learning_time(data, title + ' Time')"
   ]
  },
  {
   "cell_type": "markdown",
   "metadata": {},
   "source": [
    "## n-queens\n",
    "The `n-queens` problem is a classic problem for exploring genetic algorithms."
   ]
  },
  {
   "cell_type": "code",
   "execution_count": 14,
   "metadata": {},
   "outputs": [],
   "source": [
    "# derived from https://en.wikipedia.org/wiki/Triangular_number and https://www.mathsisfun.com/algebra/triangular-numbers.html\n",
    "def triangle_number(n):\n",
    "    return n*(n+1)/2\n",
    "\n",
    "def valid_queens_state(state):\n",
    "    # used code from https://stackoverflow.com/questions/13252333/python-check-if-all-elements-of-a-list-are-the-same-type\n",
    "    return all(isinstance(x, int) for x in state) and min(state) >= 0 and max(state) <= len(state) - 1\n",
    "\n",
    "# this is a modified version of a similar function found here https://github.com/gkhayes/mlrose/blob/master/tutorial_examples.ipynb\n",
    "def n_queens_fitness_fn(state):\n",
    "    fitness = 0\n",
    "    for i in range(len(state) - 1):\n",
    "        for j in range(i + 1, len(state)):\n",
    "            # Check for horizontal, diagonal-up and diagonal-down attacks\n",
    "            if (state[j] != state[i]) and (state[j] != state[i] + (j - i)) and (state[j] != state[i] - (j - i)):\n",
    "                fitness += 1\n",
    "\n",
    "    return fitness\n",
    "\n",
    "# modified https://solarianprogrammer.com/2017/11/20/eight-queens-puzzle-python/\n",
    "def show_full_board(state):\n",
    "    size = len(state)\n",
    "    board = \"\"\n",
    "    for row in range(size):\n",
    "        line = \"\"\n",
    "        for column in range(size):\n",
    "            if state[row] == column:\n",
    "                line += \"* \"\n",
    "            else:\n",
    "                line += \". \"\n",
    "        board = board + line + \"\\n\"\n",
    "    return board"
   ]
  },
  {
   "cell_type": "code",
   "execution_count": 15,
   "metadata": {},
   "outputs": [
    {
     "name": "stdout",
     "output_type": "stream",
     "text": [
      "('. * . . . . . . \\n'\n",
      " '. . . * . . . . \\n'\n",
      " '. . . . . * . . \\n'\n",
      " '. . . . . . . * \\n'\n",
      " '. . * . . . . . \\n'\n",
      " '* . . . . . . . \\n'\n",
      " '. . . . . . * . \\n'\n",
      " '. . . . * . . . \\n')\n"
     ]
    }
   ],
   "source": [
    "pp.pprint(show_full_board([1,3,5,7,2,0,6,4]))"
   ]
  },
  {
   "cell_type": "code",
   "execution_count": 16,
   "metadata": {},
   "outputs": [],
   "source": [
    "# run a few quick tests to make sure my functions are working\n",
    "test_states = [{\"s\":[0,1,2,3], \"v\": True, \"es\": 0, \"eb\": \"* . . . \\n. * . . \\n. . * . \\n. . . * \\n\"},\n",
    "               {\"s\":[1,2,3,4], \"v\": False},\n",
    "               {\"s\":[0,1,2,3,4,5,6,7], \"v\": True, \"es\": 0, \"eb\": \"* . . . . . . . \\n. * . . . . . . \\n. . * . . . . . \\n. . . * . . . . \\n. . . . * . . . \\n. . . . . * . . \\n. . . . . . * . \\n. . . . . . . * \\n\"},\n",
    "               {\"s\": [1,4,1,3,5,5,2,7], \"v\": True, \"es\": 26, \"eb\": \". * . . . . . . \\n. . . . * . . . \\n. * . . . . . . \\n. . . * . . . . \\n. . . . . * . . \\n. . . . . * . . \\n. . * . . . . . \\n. . . . . . . * \\n\"},\n",
    "               {\"s\":[1,3,5,7,2,0,6,4], \"v\": True, \"es\": 27, \"eb\": \". * . . . . . . \\n. . . * . . . . \\n. . . . . * . . \\n. . . . . . . * \\n. . * . . . . . \\n* . . . . . . . \\n. . . . . . * . \\n. . . . * . . . \\n\"}]\n",
    "\n",
    "for s in test_states:\n",
    "    show_full_board(s[\"s\"])\n",
    "    if(valid_queens_state(s[\"s\"]) != s[\"v\"]):\n",
    "        raise Exception(\"valid_queens_state is broken. Validity for \" + str(s[\"s\"]) + \n",
    "                        \" was \" + str(valid_queens_state(s[\"s\"])) + \" but should have been \" + str(s[\"v\"]))\n",
    "    if(valid_queens_state(s[\"s\"]) != s[\"v\"] and n_queens_fitness(s[\"s\"]) != s[\"es\"]):\n",
    "        raise Exception(\"n_queens_fitness is broken. Fitness for \" + str(s[\"s\"]) + \n",
    "                        \" was \" + str(n_queens_fitness(s[\"s\"])) + \" but should have been \" + str(s[\"es\"]))\n",
    "    if(valid_queens_state(s[\"s\"]) and show_full_board(s[\"s\"]) != s[\"eb\"]):\n",
    "        raise Exception(\"show_full_board is broken. Fitness for \" + str(s[\"s\"]) + \n",
    "                        \" was \" + str(show_full_board(s[\"s\"])) + \" but should have been \" + str(s[\"eb\"]))\n",
    "    "
   ]
  },
  {
   "cell_type": "code",
   "execution_count": 17,
   "metadata": {},
   "outputs": [],
   "source": [
    "best_posible_fitness = triangle_number(8 - 1)\n",
    "n_queens_fitness = mlrose.CustomFitness(n_queens_fitness_fn)"
   ]
  },
  {
   "cell_type": "code",
   "execution_count": 18,
   "metadata": {},
   "outputs": [],
   "source": [
    "#define problem\n",
    "n_queens_problem = mlrose.DiscreteOpt(length = 8, fitness_fn = n_queens_fitness, maximize = True, max_val = 8)"
   ]
  },
  {
   "cell_type": "code",
   "execution_count": 51,
   "metadata": {},
   "outputs": [
    {
     "data": {
      "text/plain": [
       "5"
      ]
     },
     "execution_count": 51,
     "metadata": {},
     "output_type": "execute_result"
    }
   ],
   "source": [
    "n_queens_fitness_fn([1,3,0,0])"
   ]
  },
  {
   "cell_type": "code",
   "execution_count": 48,
   "metadata": {},
   "outputs": [
    {
     "data": {
      "text/plain": [
       "5"
      ]
     },
     "execution_count": 48,
     "metadata": {},
     "output_type": "execute_result"
    }
   ],
   "source": [
    "n_queens_fitness_fn([0,0,3,1])"
   ]
  },
  {
   "cell_type": "code",
   "execution_count": 52,
   "metadata": {},
   "outputs": [
    {
     "data": {
      "text/plain": [
       "2"
      ]
     },
     "execution_count": 52,
     "metadata": {},
     "output_type": "execute_result"
    }
   ],
   "source": [
    "n_queens_fitness_fn([1,3,3,1])"
   ]
  },
  {
   "cell_type": "code",
   "execution_count": 19,
   "metadata": {
    "scrolled": false
   },
   "outputs": [],
   "source": [
    "n_queens_sim_ann = try_sim_ann(n_queens_problem, [0] * 8, 100)"
   ]
  },
  {
   "cell_type": "code",
   "execution_count": 20,
   "metadata": {},
   "outputs": [],
   "source": [
    "n_queens_sim_ann_agg = show_aggregates(n_queens_sim_ann)"
   ]
  },
  {
   "cell_type": "code",
   "execution_count": 67,
   "metadata": {},
   "outputs": [
    {
     "data": {
      "text/html": [
       "<div>\n",
       "<style scoped>\n",
       "    .dataframe tbody tr th:only-of-type {\n",
       "        vertical-align: middle;\n",
       "    }\n",
       "\n",
       "    .dataframe tbody tr th {\n",
       "        vertical-align: top;\n",
       "    }\n",
       "\n",
       "    .dataframe thead th {\n",
       "        text-align: right;\n",
       "    }\n",
       "</style>\n",
       "<table border=\"1\" class=\"dataframe\">\n",
       "  <thead>\n",
       "    <tr style=\"text-align: right;\">\n",
       "      <th></th>\n",
       "      <th>Fitness Mean</th>\n",
       "      <th>Fitness Std.</th>\n",
       "      <th>Fitness Median</th>\n",
       "      <th>Fitness Min</th>\n",
       "      <th>Fitness Max</th>\n",
       "      <th>Time Mean</th>\n",
       "    </tr>\n",
       "    <tr>\n",
       "      <th>max-attemtps</th>\n",
       "      <th></th>\n",
       "      <th></th>\n",
       "      <th></th>\n",
       "      <th></th>\n",
       "      <th></th>\n",
       "      <th></th>\n",
       "    </tr>\n",
       "  </thead>\n",
       "  <tbody>\n",
       "    <tr>\n",
       "      <td>21</td>\n",
       "      <td>26.5</td>\n",
       "      <td>0.527046</td>\n",
       "      <td>26.5</td>\n",
       "      <td>26.0</td>\n",
       "      <td>27.0</td>\n",
       "      <td>10632.9</td>\n",
       "    </tr>\n",
       "    <tr>\n",
       "      <td>22</td>\n",
       "      <td>26.5</td>\n",
       "      <td>0.527046</td>\n",
       "      <td>26.5</td>\n",
       "      <td>26.0</td>\n",
       "      <td>27.0</td>\n",
       "      <td>10661.4</td>\n",
       "    </tr>\n",
       "    <tr>\n",
       "      <td>23</td>\n",
       "      <td>26.6</td>\n",
       "      <td>0.516398</td>\n",
       "      <td>27.0</td>\n",
       "      <td>26.0</td>\n",
       "      <td>27.0</td>\n",
       "      <td>11161.1</td>\n",
       "    </tr>\n",
       "    <tr>\n",
       "      <td>24</td>\n",
       "      <td>26.6</td>\n",
       "      <td>0.516398</td>\n",
       "      <td>27.0</td>\n",
       "      <td>26.0</td>\n",
       "      <td>27.0</td>\n",
       "      <td>11505.8</td>\n",
       "    </tr>\n",
       "    <tr>\n",
       "      <td>25</td>\n",
       "      <td>26.7</td>\n",
       "      <td>0.483046</td>\n",
       "      <td>27.0</td>\n",
       "      <td>26.0</td>\n",
       "      <td>27.0</td>\n",
       "      <td>12211.1</td>\n",
       "    </tr>\n",
       "    <tr>\n",
       "      <td>26</td>\n",
       "      <td>26.7</td>\n",
       "      <td>0.483046</td>\n",
       "      <td>27.0</td>\n",
       "      <td>26.0</td>\n",
       "      <td>27.0</td>\n",
       "      <td>12113.0</td>\n",
       "    </tr>\n",
       "    <tr>\n",
       "      <td>27</td>\n",
       "      <td>26.8</td>\n",
       "      <td>0.632456</td>\n",
       "      <td>27.0</td>\n",
       "      <td>26.0</td>\n",
       "      <td>28.0</td>\n",
       "      <td>12591.1</td>\n",
       "    </tr>\n",
       "    <tr>\n",
       "      <td>28</td>\n",
       "      <td>26.8</td>\n",
       "      <td>0.632456</td>\n",
       "      <td>27.0</td>\n",
       "      <td>26.0</td>\n",
       "      <td>28.0</td>\n",
       "      <td>12514.2</td>\n",
       "    </tr>\n",
       "    <tr>\n",
       "      <td>29</td>\n",
       "      <td>26.8</td>\n",
       "      <td>0.632456</td>\n",
       "      <td>27.0</td>\n",
       "      <td>26.0</td>\n",
       "      <td>28.0</td>\n",
       "      <td>13166.5</td>\n",
       "    </tr>\n",
       "    <tr>\n",
       "      <td>30</td>\n",
       "      <td>26.8</td>\n",
       "      <td>0.632456</td>\n",
       "      <td>27.0</td>\n",
       "      <td>26.0</td>\n",
       "      <td>28.0</td>\n",
       "      <td>14007.4</td>\n",
       "    </tr>\n",
       "  </tbody>\n",
       "</table>\n",
       "</div>"
      ],
      "text/plain": [
       "              Fitness Mean  Fitness Std.  Fitness Median  Fitness Min  \\\n",
       "max-attemtps                                                            \n",
       "21                    26.5      0.527046            26.5         26.0   \n",
       "22                    26.5      0.527046            26.5         26.0   \n",
       "23                    26.6      0.516398            27.0         26.0   \n",
       "24                    26.6      0.516398            27.0         26.0   \n",
       "25                    26.7      0.483046            27.0         26.0   \n",
       "26                    26.7      0.483046            27.0         26.0   \n",
       "27                    26.8      0.632456            27.0         26.0   \n",
       "28                    26.8      0.632456            27.0         26.0   \n",
       "29                    26.8      0.632456            27.0         26.0   \n",
       "30                    26.8      0.632456            27.0         26.0   \n",
       "\n",
       "              Fitness Max  Time Mean  \n",
       "max-attemtps                          \n",
       "21                   27.0    10632.9  \n",
       "22                   27.0    10661.4  \n",
       "23                   27.0    11161.1  \n",
       "24                   27.0    11505.8  \n",
       "25                   27.0    12211.1  \n",
       "26                   27.0    12113.0  \n",
       "27                   28.0    12591.1  \n",
       "28                   28.0    12514.2  \n",
       "29                   28.0    13166.5  \n",
       "30                   28.0    14007.4  "
      ]
     },
     "execution_count": 67,
     "metadata": {},
     "output_type": "execute_result"
    }
   ],
   "source": [
    "n_queens_sim_ann_agg.iloc[list(range(20,30))]"
   ]
  },
  {
   "cell_type": "code",
   "execution_count": 80,
   "metadata": {},
   "outputs": [
    {
     "data": {
      "image/png": "[encoded data removed]",
      "text/plain": [
       "<Figure size 432x288 with 1 Axes>"
      ]
     },
     "metadata": {
      "needs_background": "light"
     },
     "output_type": "display_data"
    },
    {
     "data": {
      "image/png": "[encoded data removed]",
      "text/plain": [
       "<Figure size 432x288 with 1 Axes>"
      ]
     },
     "metadata": {
      "needs_background": "light"
     },
     "output_type": "display_data"
    }
   ],
   "source": [
    "show_charts(n_queens_sim_ann_agg, 'N-Queens Simulated Annealing')"
   ]
  },
  {
   "cell_type": "code",
   "execution_count": 23,
   "metadata": {},
   "outputs": [],
   "source": [
    "n_queens_genetic = try_genetic(n_queens_problem, 100)"
   ]
  },
  {
   "cell_type": "code",
   "execution_count": 24,
   "metadata": {},
   "outputs": [],
   "source": [
    "n_queens_genetic_agg = show_aggregates(n_queens_genetic)"
   ]
  },
  {
   "cell_type": "code",
   "execution_count": 68,
   "metadata": {},
   "outputs": [
    {
     "data": {
      "text/html": [
       "<div>\n",
       "<style scoped>\n",
       "    .dataframe tbody tr th:only-of-type {\n",
       "        vertical-align: middle;\n",
       "    }\n",
       "\n",
       "    .dataframe tbody tr th {\n",
       "        vertical-align: top;\n",
       "    }\n",
       "\n",
       "    .dataframe thead th {\n",
       "        text-align: right;\n",
       "    }\n",
       "</style>\n",
       "<table border=\"1\" class=\"dataframe\">\n",
       "  <thead>\n",
       "    <tr style=\"text-align: right;\">\n",
       "      <th></th>\n",
       "      <th>Fitness Mean</th>\n",
       "      <th>Fitness Std.</th>\n",
       "      <th>Fitness Median</th>\n",
       "      <th>Fitness Min</th>\n",
       "      <th>Fitness Max</th>\n",
       "      <th>Time Mean</th>\n",
       "    </tr>\n",
       "    <tr>\n",
       "      <th>max-attemtps</th>\n",
       "      <th></th>\n",
       "      <th></th>\n",
       "      <th></th>\n",
       "      <th></th>\n",
       "      <th></th>\n",
       "      <th></th>\n",
       "    </tr>\n",
       "  </thead>\n",
       "  <tbody>\n",
       "    <tr>\n",
       "      <td>11</td>\n",
       "      <td>26.5</td>\n",
       "      <td>0.527046</td>\n",
       "      <td>26.5</td>\n",
       "      <td>26.0</td>\n",
       "      <td>27.0</td>\n",
       "      <td>228091.9</td>\n",
       "    </tr>\n",
       "    <tr>\n",
       "      <td>12</td>\n",
       "      <td>26.5</td>\n",
       "      <td>0.527046</td>\n",
       "      <td>26.5</td>\n",
       "      <td>26.0</td>\n",
       "      <td>27.0</td>\n",
       "      <td>243674.9</td>\n",
       "    </tr>\n",
       "    <tr>\n",
       "      <td>13</td>\n",
       "      <td>26.5</td>\n",
       "      <td>0.527046</td>\n",
       "      <td>26.5</td>\n",
       "      <td>26.0</td>\n",
       "      <td>27.0</td>\n",
       "      <td>260961.1</td>\n",
       "    </tr>\n",
       "    <tr>\n",
       "      <td>14</td>\n",
       "      <td>26.5</td>\n",
       "      <td>0.527046</td>\n",
       "      <td>26.5</td>\n",
       "      <td>26.0</td>\n",
       "      <td>27.0</td>\n",
       "      <td>274961.0</td>\n",
       "    </tr>\n",
       "    <tr>\n",
       "      <td>15</td>\n",
       "      <td>26.5</td>\n",
       "      <td>0.527046</td>\n",
       "      <td>26.5</td>\n",
       "      <td>26.0</td>\n",
       "      <td>27.0</td>\n",
       "      <td>290071.2</td>\n",
       "    </tr>\n",
       "    <tr>\n",
       "      <td>16</td>\n",
       "      <td>26.5</td>\n",
       "      <td>0.527046</td>\n",
       "      <td>26.5</td>\n",
       "      <td>26.0</td>\n",
       "      <td>27.0</td>\n",
       "      <td>307714.2</td>\n",
       "    </tr>\n",
       "    <tr>\n",
       "      <td>17</td>\n",
       "      <td>26.5</td>\n",
       "      <td>0.527046</td>\n",
       "      <td>26.5</td>\n",
       "      <td>26.0</td>\n",
       "      <td>27.0</td>\n",
       "      <td>321185.9</td>\n",
       "    </tr>\n",
       "    <tr>\n",
       "      <td>18</td>\n",
       "      <td>26.6</td>\n",
       "      <td>0.516398</td>\n",
       "      <td>27.0</td>\n",
       "      <td>26.0</td>\n",
       "      <td>27.0</td>\n",
       "      <td>365721.9</td>\n",
       "    </tr>\n",
       "    <tr>\n",
       "      <td>19</td>\n",
       "      <td>26.9</td>\n",
       "      <td>0.567646</td>\n",
       "      <td>27.0</td>\n",
       "      <td>26.0</td>\n",
       "      <td>28.0</td>\n",
       "      <td>442311.4</td>\n",
       "    </tr>\n",
       "    <tr>\n",
       "      <td>20</td>\n",
       "      <td>26.9</td>\n",
       "      <td>0.567646</td>\n",
       "      <td>27.0</td>\n",
       "      <td>26.0</td>\n",
       "      <td>28.0</td>\n",
       "      <td>460084.4</td>\n",
       "    </tr>\n",
       "  </tbody>\n",
       "</table>\n",
       "</div>"
      ],
      "text/plain": [
       "              Fitness Mean  Fitness Std.  Fitness Median  Fitness Min  \\\n",
       "max-attemtps                                                            \n",
       "11                    26.5      0.527046            26.5         26.0   \n",
       "12                    26.5      0.527046            26.5         26.0   \n",
       "13                    26.5      0.527046            26.5         26.0   \n",
       "14                    26.5      0.527046            26.5         26.0   \n",
       "15                    26.5      0.527046            26.5         26.0   \n",
       "16                    26.5      0.527046            26.5         26.0   \n",
       "17                    26.5      0.527046            26.5         26.0   \n",
       "18                    26.6      0.516398            27.0         26.0   \n",
       "19                    26.9      0.567646            27.0         26.0   \n",
       "20                    26.9      0.567646            27.0         26.0   \n",
       "\n",
       "              Fitness Max  Time Mean  \n",
       "max-attemtps                          \n",
       "11                   27.0   228091.9  \n",
       "12                   27.0   243674.9  \n",
       "13                   27.0   260961.1  \n",
       "14                   27.0   274961.0  \n",
       "15                   27.0   290071.2  \n",
       "16                   27.0   307714.2  \n",
       "17                   27.0   321185.9  \n",
       "18                   27.0   365721.9  \n",
       "19                   28.0   442311.4  \n",
       "20                   28.0   460084.4  "
      ]
     },
     "execution_count": 68,
     "metadata": {},
     "output_type": "execute_result"
    }
   ],
   "source": [
    "n_queens_genetic_agg.iloc[list(range(10,20))]"
   ]
  },
  {
   "cell_type": "code",
   "execution_count": 81,
   "metadata": {},
   "outputs": [
    {
     "data": {
      "image/png": "[encoded data removed]",
      "text/plain": [
       "<Figure size 432x288 with 1 Axes>"
      ]
     },
     "metadata": {
      "needs_background": "light"
     },
     "output_type": "display_data"
    },
    {
     "data": {
      "image/png": "[encoded data removed]",
      "text/plain": [
       "<Figure size 432x288 with 1 Axes>"
      ]
     },
     "metadata": {
      "needs_background": "light"
     },
     "output_type": "display_data"
    }
   ],
   "source": [
    "show_charts(n_queens_genetic_agg, 'N-Queens Genetic Algorithm')"
   ]
  },
  {
   "cell_type": "code",
   "execution_count": 26,
   "metadata": {},
   "outputs": [],
   "source": [
    "n_queens_rand_hill = try_rand_hill(n_queens_problem, [0] * 8, 100)"
   ]
  },
  {
   "cell_type": "code",
   "execution_count": 82,
   "metadata": {},
   "outputs": [
    {
     "data": {
      "image/png": "[encoded data removed]",
      "text/plain": [
       "<Figure size 432x288 with 1 Axes>"
      ]
     },
     "metadata": {
      "needs_background": "light"
     },
     "output_type": "display_data"
    },
    {
     "data": {
      "image/png": "[encoded data removed]",
      "text/plain": [
       "<Figure size 432x288 with 1 Axes>"
      ]
     },
     "metadata": {
      "needs_background": "light"
     },
     "output_type": "display_data"
    }
   ],
   "source": [
    "n_queens_rand_hill_agg = show_aggregates(n_queens_rand_hill)\n",
    "show_charts(n_queens_rand_hill_agg, 'N-Queens Random Hill Climbling')"
   ]
  },
  {
   "cell_type": "code",
   "execution_count": 64,
   "metadata": {},
   "outputs": [
    {
     "data": {
      "text/html": [
       "<div>\n",
       "<style scoped>\n",
       "    .dataframe tbody tr th:only-of-type {\n",
       "        vertical-align: middle;\n",
       "    }\n",
       "\n",
       "    .dataframe tbody tr th {\n",
       "        vertical-align: top;\n",
       "    }\n",
       "\n",
       "    .dataframe thead th {\n",
       "        text-align: right;\n",
       "    }\n",
       "</style>\n",
       "<table border=\"1\" class=\"dataframe\">\n",
       "  <thead>\n",
       "    <tr style=\"text-align: right;\">\n",
       "      <th></th>\n",
       "      <th>Fitness Mean</th>\n",
       "      <th>Fitness Std.</th>\n",
       "      <th>Fitness Median</th>\n",
       "      <th>Fitness Min</th>\n",
       "      <th>Fitness Max</th>\n",
       "      <th>Time Mean</th>\n",
       "    </tr>\n",
       "    <tr>\n",
       "      <th>max-attemtps</th>\n",
       "      <th></th>\n",
       "      <th></th>\n",
       "      <th></th>\n",
       "      <th></th>\n",
       "      <th></th>\n",
       "      <th></th>\n",
       "    </tr>\n",
       "  </thead>\n",
       "  <tbody>\n",
       "    <tr>\n",
       "      <td>31</td>\n",
       "      <td>25.6</td>\n",
       "      <td>0.699206</td>\n",
       "      <td>26.0</td>\n",
       "      <td>24.0</td>\n",
       "      <td>26.0</td>\n",
       "      <td>2435.0</td>\n",
       "    </tr>\n",
       "    <tr>\n",
       "      <td>32</td>\n",
       "      <td>25.6</td>\n",
       "      <td>0.699206</td>\n",
       "      <td>26.0</td>\n",
       "      <td>24.0</td>\n",
       "      <td>26.0</td>\n",
       "      <td>2413.0</td>\n",
       "    </tr>\n",
       "    <tr>\n",
       "      <td>33</td>\n",
       "      <td>25.6</td>\n",
       "      <td>0.699206</td>\n",
       "      <td>26.0</td>\n",
       "      <td>24.0</td>\n",
       "      <td>26.0</td>\n",
       "      <td>2433.4</td>\n",
       "    </tr>\n",
       "    <tr>\n",
       "      <td>34</td>\n",
       "      <td>25.6</td>\n",
       "      <td>0.699206</td>\n",
       "      <td>26.0</td>\n",
       "      <td>24.0</td>\n",
       "      <td>26.0</td>\n",
       "      <td>2466.9</td>\n",
       "    </tr>\n",
       "    <tr>\n",
       "      <td>35</td>\n",
       "      <td>25.6</td>\n",
       "      <td>0.699206</td>\n",
       "      <td>26.0</td>\n",
       "      <td>24.0</td>\n",
       "      <td>26.0</td>\n",
       "      <td>2528.5</td>\n",
       "    </tr>\n",
       "    <tr>\n",
       "      <td>36</td>\n",
       "      <td>25.6</td>\n",
       "      <td>0.699206</td>\n",
       "      <td>26.0</td>\n",
       "      <td>24.0</td>\n",
       "      <td>26.0</td>\n",
       "      <td>2540.4</td>\n",
       "    </tr>\n",
       "    <tr>\n",
       "      <td>37</td>\n",
       "      <td>25.8</td>\n",
       "      <td>0.788811</td>\n",
       "      <td>26.0</td>\n",
       "      <td>24.0</td>\n",
       "      <td>27.0</td>\n",
       "      <td>2764.8</td>\n",
       "    </tr>\n",
       "    <tr>\n",
       "      <td>38</td>\n",
       "      <td>25.8</td>\n",
       "      <td>0.788811</td>\n",
       "      <td>26.0</td>\n",
       "      <td>24.0</td>\n",
       "      <td>27.0</td>\n",
       "      <td>2835.2</td>\n",
       "    </tr>\n",
       "    <tr>\n",
       "      <td>39</td>\n",
       "      <td>25.9</td>\n",
       "      <td>0.875595</td>\n",
       "      <td>26.0</td>\n",
       "      <td>24.0</td>\n",
       "      <td>27.0</td>\n",
       "      <td>2948.6</td>\n",
       "    </tr>\n",
       "    <tr>\n",
       "      <td>40</td>\n",
       "      <td>25.9</td>\n",
       "      <td>0.875595</td>\n",
       "      <td>26.0</td>\n",
       "      <td>24.0</td>\n",
       "      <td>27.0</td>\n",
       "      <td>3036.8</td>\n",
       "    </tr>\n",
       "  </tbody>\n",
       "</table>\n",
       "</div>"
      ],
      "text/plain": [
       "              Fitness Mean  Fitness Std.  Fitness Median  Fitness Min  \\\n",
       "max-attemtps                                                            \n",
       "31                    25.6      0.699206            26.0         24.0   \n",
       "32                    25.6      0.699206            26.0         24.0   \n",
       "33                    25.6      0.699206            26.0         24.0   \n",
       "34                    25.6      0.699206            26.0         24.0   \n",
       "35                    25.6      0.699206            26.0         24.0   \n",
       "36                    25.6      0.699206            26.0         24.0   \n",
       "37                    25.8      0.788811            26.0         24.0   \n",
       "38                    25.8      0.788811            26.0         24.0   \n",
       "39                    25.9      0.875595            26.0         24.0   \n",
       "40                    25.9      0.875595            26.0         24.0   \n",
       "\n",
       "              Fitness Max  Time Mean  \n",
       "max-attemtps                          \n",
       "31                   26.0     2435.0  \n",
       "32                   26.0     2413.0  \n",
       "33                   26.0     2433.4  \n",
       "34                   26.0     2466.9  \n",
       "35                   26.0     2528.5  \n",
       "36                   26.0     2540.4  \n",
       "37                   27.0     2764.8  \n",
       "38                   27.0     2835.2  \n",
       "39                   27.0     2948.6  \n",
       "40                   27.0     3036.8  "
      ]
     },
     "execution_count": 64,
     "metadata": {},
     "output_type": "execute_result"
    }
   ],
   "source": [
    "n_queens_rand_hill_agg.iloc[list(range(30,40))]"
   ]
  },
  {
   "cell_type": "code",
   "execution_count": 28,
   "metadata": {},
   "outputs": [],
   "source": [
    "n_queens_mimic = try_mimic(n_queens_problem, 100)"
   ]
  },
  {
   "cell_type": "code",
   "execution_count": 83,
   "metadata": {},
   "outputs": [
    {
     "data": {
      "image/png": "[encoded data removed]",
      "text/plain": [
       "<Figure size 432x288 with 1 Axes>"
      ]
     },
     "metadata": {
      "needs_background": "light"
     },
     "output_type": "display_data"
    },
    {
     "data": {
      "image/png": "[encoded data removed]",
      "text/plain": [
       "<Figure size 432x288 with 1 Axes>"
      ]
     },
     "metadata": {
      "needs_background": "light"
     },
     "output_type": "display_data"
    }
   ],
   "source": [
    "n_queens_mimic_agg = show_aggregates(n_queens_mimic)\n",
    "show_charts(n_queens_mimic_agg, 'N-Queens MIMIC')"
   ]
  },
  {
   "cell_type": "code",
   "execution_count": 71,
   "metadata": {},
   "outputs": [
    {
     "data": {
      "text/html": [
       "<div>\n",
       "<style scoped>\n",
       "    .dataframe tbody tr th:only-of-type {\n",
       "        vertical-align: middle;\n",
       "    }\n",
       "\n",
       "    .dataframe tbody tr th {\n",
       "        vertical-align: top;\n",
       "    }\n",
       "\n",
       "    .dataframe thead th {\n",
       "        text-align: right;\n",
       "    }\n",
       "</style>\n",
       "<table border=\"1\" class=\"dataframe\">\n",
       "  <thead>\n",
       "    <tr style=\"text-align: right;\">\n",
       "      <th></th>\n",
       "      <th>Fitness Mean</th>\n",
       "      <th>Fitness Std.</th>\n",
       "      <th>Fitness Median</th>\n",
       "      <th>Fitness Min</th>\n",
       "      <th>Fitness Max</th>\n",
       "      <th>Time Mean</th>\n",
       "    </tr>\n",
       "    <tr>\n",
       "      <th>max-attemtps</th>\n",
       "      <th></th>\n",
       "      <th></th>\n",
       "      <th></th>\n",
       "      <th></th>\n",
       "      <th></th>\n",
       "      <th></th>\n",
       "    </tr>\n",
       "  </thead>\n",
       "  <tbody>\n",
       "    <tr>\n",
       "      <td>1</td>\n",
       "      <td>26.1</td>\n",
       "      <td>0.567646</td>\n",
       "      <td>26.0</td>\n",
       "      <td>25.0</td>\n",
       "      <td>27.0</td>\n",
       "      <td>67086.8</td>\n",
       "    </tr>\n",
       "    <tr>\n",
       "      <td>2</td>\n",
       "      <td>27.0</td>\n",
       "      <td>0.816497</td>\n",
       "      <td>27.0</td>\n",
       "      <td>26.0</td>\n",
       "      <td>28.0</td>\n",
       "      <td>128982.5</td>\n",
       "    </tr>\n",
       "    <tr>\n",
       "      <td>3</td>\n",
       "      <td>27.0</td>\n",
       "      <td>0.816497</td>\n",
       "      <td>27.0</td>\n",
       "      <td>26.0</td>\n",
       "      <td>28.0</td>\n",
       "      <td>155878.2</td>\n",
       "    </tr>\n",
       "    <tr>\n",
       "      <td>4</td>\n",
       "      <td>27.1</td>\n",
       "      <td>0.737865</td>\n",
       "      <td>27.0</td>\n",
       "      <td>26.0</td>\n",
       "      <td>28.0</td>\n",
       "      <td>195773.5</td>\n",
       "    </tr>\n",
       "    <tr>\n",
       "      <td>5</td>\n",
       "      <td>27.1</td>\n",
       "      <td>0.737865</td>\n",
       "      <td>27.0</td>\n",
       "      <td>26.0</td>\n",
       "      <td>28.0</td>\n",
       "      <td>221499.0</td>\n",
       "    </tr>\n",
       "    <tr>\n",
       "      <td>6</td>\n",
       "      <td>27.1</td>\n",
       "      <td>0.737865</td>\n",
       "      <td>27.0</td>\n",
       "      <td>26.0</td>\n",
       "      <td>28.0</td>\n",
       "      <td>247094.8</td>\n",
       "    </tr>\n",
       "    <tr>\n",
       "      <td>7</td>\n",
       "      <td>27.1</td>\n",
       "      <td>0.737865</td>\n",
       "      <td>27.0</td>\n",
       "      <td>26.0</td>\n",
       "      <td>28.0</td>\n",
       "      <td>275511.7</td>\n",
       "    </tr>\n",
       "    <tr>\n",
       "      <td>8</td>\n",
       "      <td>27.1</td>\n",
       "      <td>0.737865</td>\n",
       "      <td>27.0</td>\n",
       "      <td>26.0</td>\n",
       "      <td>28.0</td>\n",
       "      <td>300563.6</td>\n",
       "    </tr>\n",
       "    <tr>\n",
       "      <td>9</td>\n",
       "      <td>27.1</td>\n",
       "      <td>0.737865</td>\n",
       "      <td>27.0</td>\n",
       "      <td>26.0</td>\n",
       "      <td>28.0</td>\n",
       "      <td>328924.5</td>\n",
       "    </tr>\n",
       "    <tr>\n",
       "      <td>10</td>\n",
       "      <td>27.1</td>\n",
       "      <td>0.737865</td>\n",
       "      <td>27.0</td>\n",
       "      <td>26.0</td>\n",
       "      <td>28.0</td>\n",
       "      <td>353659.0</td>\n",
       "    </tr>\n",
       "  </tbody>\n",
       "</table>\n",
       "</div>"
      ],
      "text/plain": [
       "              Fitness Mean  Fitness Std.  Fitness Median  Fitness Min  \\\n",
       "max-attemtps                                                            \n",
       "1                     26.1      0.567646            26.0         25.0   \n",
       "2                     27.0      0.816497            27.0         26.0   \n",
       "3                     27.0      0.816497            27.0         26.0   \n",
       "4                     27.1      0.737865            27.0         26.0   \n",
       "5                     27.1      0.737865            27.0         26.0   \n",
       "6                     27.1      0.737865            27.0         26.0   \n",
       "7                     27.1      0.737865            27.0         26.0   \n",
       "8                     27.1      0.737865            27.0         26.0   \n",
       "9                     27.1      0.737865            27.0         26.0   \n",
       "10                    27.1      0.737865            27.0         26.0   \n",
       "\n",
       "              Fitness Max  Time Mean  \n",
       "max-attemtps                          \n",
       "1                    27.0    67086.8  \n",
       "2                    28.0   128982.5  \n",
       "3                    28.0   155878.2  \n",
       "4                    28.0   195773.5  \n",
       "5                    28.0   221499.0  \n",
       "6                    28.0   247094.8  \n",
       "7                    28.0   275511.7  \n",
       "8                    28.0   300563.6  \n",
       "9                    28.0   328924.5  \n",
       "10                   28.0   353659.0  "
      ]
     },
     "execution_count": 71,
     "metadata": {},
     "output_type": "execute_result"
    }
   ],
   "source": [
    "n_queens_mimic_agg.iloc[list(range(0,10))]"
   ]
  },
  {
   "cell_type": "code",
   "execution_count": 77,
   "metadata": {},
   "outputs": [
    {
     "data": {
      "text/html": [
       "<div>\n",
       "<style scoped>\n",
       "    .dataframe tbody tr th:only-of-type {\n",
       "        vertical-align: middle;\n",
       "    }\n",
       "\n",
       "    .dataframe tbody tr th {\n",
       "        vertical-align: top;\n",
       "    }\n",
       "\n",
       "    .dataframe thead th {\n",
       "        text-align: right;\n",
       "    }\n",
       "</style>\n",
       "<table border=\"1\" class=\"dataframe\">\n",
       "  <thead>\n",
       "    <tr style=\"text-align: right;\">\n",
       "      <th></th>\n",
       "      <th>max-attemtps</th>\n",
       "      <th>trial-n</th>\n",
       "      <th>best-state</th>\n",
       "      <th>best-fit-score</th>\n",
       "      <th>seed</th>\n",
       "      <th>time</th>\n",
       "    </tr>\n",
       "  </thead>\n",
       "  <tbody>\n",
       "    <tr>\n",
       "      <td>990</td>\n",
       "      <td>100</td>\n",
       "      <td>0</td>\n",
       "      <td>[1, 3, 6, 0, 7, 5, 4, 6]</td>\n",
       "      <td>26.0</td>\n",
       "      <td>667002504</td>\n",
       "      <td>2774348</td>\n",
       "    </tr>\n",
       "    <tr>\n",
       "      <td>991</td>\n",
       "      <td>100</td>\n",
       "      <td>1</td>\n",
       "      <td>[0, 5, 1, 5, 7, 2, 4, 3]</td>\n",
       "      <td>26.0</td>\n",
       "      <td>606317863</td>\n",
       "      <td>2759751</td>\n",
       "    </tr>\n",
       "    <tr>\n",
       "      <td>992</td>\n",
       "      <td>100</td>\n",
       "      <td>2</td>\n",
       "      <td>[3, 7, 0, 4, 6, 1, 5, 2]</td>\n",
       "      <td>28.0</td>\n",
       "      <td>351717943</td>\n",
       "      <td>2819150</td>\n",
       "    </tr>\n",
       "    <tr>\n",
       "      <td>993</td>\n",
       "      <td>100</td>\n",
       "      <td>3</td>\n",
       "      <td>[4, 1, 5, 2, 6, 3, 0, 2]</td>\n",
       "      <td>27.0</td>\n",
       "      <td>790323823</td>\n",
       "      <td>2709777</td>\n",
       "    </tr>\n",
       "    <tr>\n",
       "      <td>994</td>\n",
       "      <td>100</td>\n",
       "      <td>4</td>\n",
       "      <td>[3, 6, 0, 5, 1, 4, 7, 3]</td>\n",
       "      <td>27.0</td>\n",
       "      <td>443933334</td>\n",
       "      <td>2719250</td>\n",
       "    </tr>\n",
       "    <tr>\n",
       "      <td>995</td>\n",
       "      <td>100</td>\n",
       "      <td>5</td>\n",
       "      <td>[3, 6, 0, 2, 5, 7, 1, 4]</td>\n",
       "      <td>27.0</td>\n",
       "      <td>788547637</td>\n",
       "      <td>2733383</td>\n",
       "    </tr>\n",
       "    <tr>\n",
       "      <td>996</td>\n",
       "      <td>100</td>\n",
       "      <td>6</td>\n",
       "      <td>[5, 3, 1, 7, 4, 6, 0, 2]</td>\n",
       "      <td>28.0</td>\n",
       "      <td>13529954</td>\n",
       "      <td>2745188</td>\n",
       "    </tr>\n",
       "    <tr>\n",
       "      <td>997</td>\n",
       "      <td>100</td>\n",
       "      <td>7</td>\n",
       "      <td>[5, 3, 1, 7, 2, 0, 6, 4]</td>\n",
       "      <td>27.0</td>\n",
       "      <td>762139281</td>\n",
       "      <td>2804190</td>\n",
       "    </tr>\n",
       "    <tr>\n",
       "      <td>998</td>\n",
       "      <td>100</td>\n",
       "      <td>8</td>\n",
       "      <td>[6, 3, 0, 4, 1, 7, 5, 2]</td>\n",
       "      <td>27.0</td>\n",
       "      <td>110680606</td>\n",
       "      <td>2838452</td>\n",
       "    </tr>\n",
       "    <tr>\n",
       "      <td>999</td>\n",
       "      <td>100</td>\n",
       "      <td>9</td>\n",
       "      <td>[4, 1, 7, 0, 3, 6, 2, 5]</td>\n",
       "      <td>28.0</td>\n",
       "      <td>797673859</td>\n",
       "      <td>2726306</td>\n",
       "    </tr>\n",
       "  </tbody>\n",
       "</table>\n",
       "</div>"
      ],
      "text/plain": [
       "     max-attemtps  trial-n                best-state  best-fit-score  \\\n",
       "990           100        0  [1, 3, 6, 0, 7, 5, 4, 6]            26.0   \n",
       "991           100        1  [0, 5, 1, 5, 7, 2, 4, 3]            26.0   \n",
       "992           100        2  [3, 7, 0, 4, 6, 1, 5, 2]            28.0   \n",
       "993           100        3  [4, 1, 5, 2, 6, 3, 0, 2]            27.0   \n",
       "994           100        4  [3, 6, 0, 5, 1, 4, 7, 3]            27.0   \n",
       "995           100        5  [3, 6, 0, 2, 5, 7, 1, 4]            27.0   \n",
       "996           100        6  [5, 3, 1, 7, 4, 6, 0, 2]            28.0   \n",
       "997           100        7  [5, 3, 1, 7, 2, 0, 6, 4]            27.0   \n",
       "998           100        8  [6, 3, 0, 4, 1, 7, 5, 2]            27.0   \n",
       "999           100        9  [4, 1, 7, 0, 3, 6, 2, 5]            28.0   \n",
       "\n",
       "          seed     time  \n",
       "990  667002504  2774348  \n",
       "991  606317863  2759751  \n",
       "992  351717943  2819150  \n",
       "993  790323823  2709777  \n",
       "994  443933334  2719250  \n",
       "995  788547637  2733383  \n",
       "996   13529954  2745188  \n",
       "997  762139281  2804190  \n",
       "998  110680606  2838452  \n",
       "999  797673859  2726306  "
      ]
     },
     "execution_count": 77,
     "metadata": {},
     "output_type": "execute_result"
    }
   ],
   "source": [
    "n_queens_mimic.iloc[list(range(990,1000))]"
   ]
  },
  {
   "cell_type": "code",
   "execution_count": null,
   "metadata": {},
   "outputs": [],
   "source": []
  }
 ],
 "metadata": {
  "kernelspec": {
   "display_name": "Python 3",
   "language": "python",
   "name": "python3"
  },
  "language_info": {
   "codemirror_mode": {
    "name": "ipython",
    "version": 3
   },
   "file_extension": ".py",
   "mimetype": "text/x-python",
   "name": "python",
   "nbconvert_exporter": "python",
   "pygments_lexer": "ipython3",
   "version": "3.7.4"
  }
 },
 "nbformat": 4,
 "nbformat_minor": 2
}
