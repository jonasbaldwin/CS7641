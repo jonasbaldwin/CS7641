{
 "cells": [
  {
   "cell_type": "markdown",
   "metadata": {},
   "source": [
    "# Project 3\n",
    "Who knew we'd survive this long?"
   ]
  },
  {
   "cell_type": "markdown",
   "metadata": {},
   "source": [
    "## Expectation Maximization\n",
    "Using sklearn GaussianMixture which implements expectation maximization"
   ]
  },
  {
   "cell_type": "code",
   "execution_count": 7,
   "metadata": {
    "pycharm": {
     "is_executing": false,
     "name": "#%%\n"
    }
   },
   "outputs": [],
   "source": [
    "from sklearn.mixture import GaussianMixture\n",
    "import pandas as pd\n",
    "import numpy as np\n",
    "from sklearn.model_selection import train_test_split\n",
    "from sklearn.preprocessing import MinMaxScaler\n",
    "import itertools\n",
    "import operator\n",
    "from sklearn import datasets"
   ]
  },
  {
   "cell_type": "code",
   "execution_count": 8,
   "outputs": [],
   "source": [
    "scaler = MinMaxScaler()\n",
    "\n",
    "def scale_and_train(seed, sample_size, data, n_mixtures, dataset, labels=None):\n",
    "    if dataset == 'bc':\n",
    "        x = data.loc[:, data.columns != 'diagnosis']\n",
    "        y = np.where(data['diagnosis']=='M', 1, 0)\n",
    "    else:\n",
    "        x = data\n",
    "        y = labels\n",
    "    x_train, x_test, y_train, y_test = train_test_split(x, y, test_size=sample_size, random_state = seed)\n",
    "    x_train_scaled = scaler.fit_transform(x_train)\n",
    "    x_test_scaled = scaler.transform(x_test)\n",
    "    km = GaussianMixture(n_components=n_mixtures, random_state=seed).fit(x_train_scaled)\n",
    "    return km, x_train_scaled, x_test_scaled, y_train, y_test"
   ],
   "metadata": {
    "collapsed": false,
    "pycharm": {
     "name": "#%%\n",
     "is_executing": false
    }
   }
  },
  {
   "cell_type": "code",
   "execution_count": 39,
   "outputs": [],
   "source": [
    "\n",
    "def scale_train_test(seed, sample_size, data, n_mixtures, dataset, labels=None, relable_fn=None):\n",
    "    em, x_train_scaled, x_test_scaled, y_train, y_test = scale_and_train(seed, sample_size, data, n_mixtures, dataset, labels=labels)\n",
    "    predictions_prime = em.predict(x_test_scaled)\n",
    "    \n",
    "    if relable_fn is not None:\n",
    "        predictions = relable_fn(predictions_prime)\n",
    "    else:\n",
    "        predictions = predictions_prime\n",
    "        \n",
    "    diverging_indecies = error_indices(predictions, y_test)\n",
    "    accuracy = (len(predictions)-len(diverging_indecies))/len(predictions)\n",
    "    return accuracy"
   ],
   "metadata": {
    "collapsed": false,
    "pycharm": {
     "name": "#%%\n",
     "is_executing": false
    }
   }
  },
  {
   "cell_type": "code",
   "execution_count": 9,
   "outputs": [],
   "source": [
    "def error_indices(predictions, y_test):\n",
    "    diverging_indecies = []\n",
    "    for i in range(len(predictions)):\n",
    "        if predictions[i] != y_test[i]:\n",
    "            diverging_indecies.append({'index': i, 'p': predictions[i], 'a': y_test[i]})\n",
    "    return diverging_indecies"
   ],
   "metadata": {
    "collapsed": false,
    "pycharm": {
     "name": "#%%\n",
     "is_executing": false
    }
   }
  },
  {
   "cell_type": "markdown",
   "source": [
    "### Breast Cancer\n",
    "This section analyzes the breast cancer dataset."
   ],
   "metadata": {
    "collapsed": false,
    "pycharm": {
     "name": "#%% md\n"
    }
   }
  },
  {
   "cell_type": "code",
   "execution_count": 10,
   "outputs": [],
   "source": [
    "bc_data = pd.read_csv(\"../resources/breast-cancer/wdbc.data.csv\")"
   ],
   "metadata": {
    "collapsed": false,
    "pycharm": {
     "name": "#%%\n",
     "is_executing": false
    }
   }
  },
  {
   "cell_type": "code",
   "execution_count": 11,
   "outputs": [],
   "source": [
    "bc_em, bc_x_train_scaled, bc_x_test_scaled, bc_y_train, bc_y_test = scale_and_train(12345, .65, bc_data, 2, 'bc')"
   ],
   "metadata": {
    "collapsed": false,
    "pycharm": {
     "name": "#%%\n",
     "is_executing": false
    }
   }
  },
  {
   "cell_type": "code",
   "execution_count": 12,
   "outputs": [],
   "source": [
    "bc_predictions = bc_em.predict(bc_x_test_scaled)"
   ],
   "metadata": {
    "collapsed": false,
    "pycharm": {
     "name": "#%%\n",
     "is_executing": false
    }
   }
  },
  {
   "cell_type": "code",
   "execution_count": 13,
   "outputs": [
    {
     "data": {
      "text/plain": "array([0, 0, 0, 0, 0, 0, 0, 0, 0, 0, 1, 1, 0, 1, 0, 0, 0, 1, 0, 1, 1, 0,\n       1, 0, 0, 0, 0, 0, 0, 0, 0, 1, 0, 1, 0, 0, 0, 0, 1, 0, 0, 1, 1, 0,\n       0, 0, 0, 1, 0, 1, 0, 0, 1, 0, 0, 0, 1, 0, 1, 0, 0, 1, 0, 0, 1, 0,\n       0, 1, 1, 1, 0, 0, 0, 0, 1, 1, 1, 0, 0, 0, 0, 0, 1, 0, 1, 0, 1, 0,\n       0, 1, 1, 1, 1, 0, 0, 1, 1, 1, 0, 0, 0, 0, 0, 0, 0, 1, 1, 1, 1, 0,\n       1, 1, 0, 1, 1, 0, 0, 0, 0, 0, 1, 0, 1, 0, 1, 0, 0, 1, 0, 0, 1, 0,\n       0, 1, 0, 0, 0, 0, 0, 0, 1, 0, 1, 0, 0, 0, 0, 1, 0, 1, 0, 0, 0, 1,\n       0, 1, 1, 0, 1, 0, 0, 1, 0, 0, 0, 1, 0, 0, 0, 1, 0, 0, 0, 0, 0, 0,\n       0, 1, 1, 0, 0, 0, 1, 0, 1, 0, 1, 0, 0, 0, 0, 0, 0, 0, 1, 0, 1, 0,\n       0, 0, 0, 0, 0, 1, 0, 1, 1, 0, 0, 0, 0, 0, 1, 0, 0, 0, 0, 0, 0, 0,\n       1, 0, 0, 0, 1, 1, 0, 0, 1, 1, 1, 0, 0, 0, 0, 1, 1, 1, 1, 1, 0, 1,\n       0, 0, 1, 1, 1, 0, 0, 1, 0, 0, 0, 0, 1, 0, 0, 1, 0, 0, 0, 1, 0, 0,\n       1, 1, 1, 0, 1, 1, 1, 1, 0, 0, 0, 0, 1, 0, 0, 1, 1, 0, 1, 1, 0, 0,\n       0, 1, 0, 0, 1, 0, 1, 1, 0, 0, 1, 1, 1, 0, 0, 0, 0, 1, 1, 0, 0, 0,\n       0, 1, 0, 1, 1, 0, 0, 0, 0, 1, 1, 0, 1, 0, 0, 0, 0, 0, 1, 0, 0, 0,\n       0, 1, 0, 0, 1, 0, 0, 1, 0, 0, 1, 1, 0, 0, 0, 0, 1, 1, 0, 0, 0, 1,\n       1, 0, 1, 0, 0, 0, 0, 0, 1, 1, 0, 0, 0, 0, 0, 0, 0, 0])"
     },
     "metadata": {},
     "output_type": "execute_result",
     "execution_count": 13
    }
   ],
   "source": [
    "bc_y_test"
   ],
   "metadata": {
    "collapsed": false,
    "pycharm": {
     "name": "#%%\n",
     "is_executing": false
    }
   }
  },
  {
   "cell_type": "code",
   "execution_count": 14,
   "outputs": [
    {
     "data": {
      "text/plain": "array([0, 0, 0, 0, 0, 0, 0, 0, 0, 0, 1, 1, 0, 1, 0, 0, 0, 1, 0, 1, 0, 0,\n       1, 0, 0, 0, 0, 0, 0, 0, 0, 1, 0, 1, 0, 0, 0, 0, 1, 0, 0, 1, 0, 0,\n       0, 0, 0, 1, 0, 1, 0, 0, 0, 0, 0, 0, 1, 0, 1, 0, 0, 0, 0, 0, 1, 0,\n       0, 1, 1, 1, 0, 0, 0, 0, 1, 0, 1, 0, 0, 0, 0, 0, 0, 0, 1, 0, 1, 0,\n       0, 0, 1, 1, 1, 0, 0, 1, 1, 1, 0, 0, 0, 0, 0, 0, 0, 1, 1, 1, 1, 0,\n       1, 1, 0, 0, 1, 0, 0, 0, 0, 0, 1, 0, 1, 0, 1, 0, 0, 1, 1, 0, 1, 0,\n       0, 1, 0, 0, 0, 0, 0, 0, 0, 0, 1, 1, 0, 0, 0, 1, 0, 1, 0, 0, 0, 1,\n       0, 1, 1, 0, 1, 0, 0, 1, 0, 0, 0, 1, 0, 0, 0, 1, 0, 0, 0, 0, 0, 0,\n       0, 1, 1, 1, 0, 0, 1, 0, 1, 0, 0, 0, 0, 0, 0, 0, 1, 0, 1, 0, 1, 0,\n       0, 0, 0, 0, 0, 1, 0, 1, 1, 0, 0, 0, 0, 0, 0, 0, 0, 0, 0, 0, 0, 0,\n       1, 0, 0, 0, 0, 1, 0, 0, 1, 1, 1, 0, 0, 0, 0, 1, 1, 1, 1, 1, 0, 1,\n       0, 0, 1, 1, 1, 0, 0, 1, 0, 0, 1, 0, 1, 0, 0, 0, 0, 0, 0, 1, 0, 0,\n       1, 1, 1, 0, 1, 0, 1, 1, 0, 0, 0, 0, 1, 0, 0, 1, 1, 0, 1, 1, 0, 0,\n       0, 1, 0, 0, 1, 0, 1, 0, 0, 0, 1, 1, 1, 0, 0, 0, 0, 1, 1, 0, 0, 0,\n       0, 0, 0, 1, 1, 0, 0, 0, 0, 1, 1, 0, 1, 0, 0, 0, 0, 0, 1, 0, 0, 0,\n       1, 1, 0, 0, 0, 0, 0, 1, 0, 0, 1, 1, 0, 0, 0, 0, 1, 1, 0, 0, 0, 1,\n       1, 0, 1, 0, 0, 0, 0, 0, 1, 1, 0, 0, 0, 0, 0, 0, 0, 0])"
     },
     "metadata": {},
     "output_type": "execute_result",
     "execution_count": 14
    }
   ],
   "source": [
    "bc_predictions"
   ],
   "metadata": {
    "collapsed": false,
    "pycharm": {
     "name": "#%%\n",
     "is_executing": false
    }
   }
  },
  {
   "cell_type": "code",
   "execution_count": 15,
   "outputs": [
    {
     "data": {
      "text/plain": "23"
     },
     "metadata": {},
     "output_type": "execute_result",
     "execution_count": 15
    }
   ],
   "source": [
    "np.sum((bc_predictions-bc_y_test)**2)"
   ],
   "metadata": {
    "collapsed": false,
    "pycharm": {
     "name": "#%%\n",
     "is_executing": false
    }
   }
  },
  {
   "cell_type": "code",
   "execution_count": 16,
   "outputs": [
    {
     "data": {
      "text/plain": "[{'index': 20, 'p': 0, 'a': 1},\n {'index': 42, 'p': 0, 'a': 1},\n {'index': 52, 'p': 0, 'a': 1},\n {'index': 61, 'p': 0, 'a': 1},\n {'index': 75, 'p': 0, 'a': 1},\n {'index': 82, 'p': 0, 'a': 1},\n {'index': 89, 'p': 0, 'a': 1},\n {'index': 113, 'p': 0, 'a': 1},\n {'index': 128, 'p': 1, 'a': 0},\n {'index': 140, 'p': 0, 'a': 1},\n {'index': 143, 'p': 1, 'a': 0},\n {'index': 179, 'p': 1, 'a': 0},\n {'index': 186, 'p': 0, 'a': 1},\n {'index': 192, 'p': 1, 'a': 0},\n {'index': 212, 'p': 0, 'a': 1},\n {'index': 224, 'p': 0, 'a': 1},\n {'index': 252, 'p': 1, 'a': 0},\n {'index': 257, 'p': 0, 'a': 1},\n {'index': 269, 'p': 0, 'a': 1},\n {'index': 293, 'p': 0, 'a': 1},\n {'index': 309, 'p': 0, 'a': 1},\n {'index': 330, 'p': 1, 'a': 0},\n {'index': 334, 'p': 0, 'a': 1}]"
     },
     "metadata": {},
     "output_type": "execute_result",
     "execution_count": 16
    }
   ],
   "source": [
    "bc_diverging_indecies = error_indices(bc_predictions, bc_y_test)\n",
    "bc_diverging_indecies"
   ],
   "metadata": {
    "collapsed": false,
    "pycharm": {
     "name": "#%%\n",
     "is_executing": false
    }
   }
  },
  {
   "cell_type": "code",
   "execution_count": 17,
   "outputs": [
    {
     "data": {
      "text/plain": "370"
     },
     "metadata": {},
     "output_type": "execute_result",
     "execution_count": 17
    }
   ],
   "source": [
    "len(bc_predictions)\n"
   ],
   "metadata": {
    "collapsed": false,
    "pycharm": {
     "name": "#%%\n",
     "is_executing": false
    }
   }
  },
  {
   "cell_type": "markdown",
   "source": [
    "prediction accuracy"
   ],
   "metadata": {
    "collapsed": false,
    "pycharm": {
     "name": "#%% md\n"
    }
   }
  },
  {
   "cell_type": "code",
   "execution_count": 18,
   "outputs": [
    {
     "data": {
      "text/plain": "0.9378378378378378"
     },
     "metadata": {},
     "output_type": "execute_result",
     "execution_count": 18
    }
   ],
   "source": [
    "(len(bc_predictions)-len(bc_diverging_indecies))/len(bc_predictions)\n"
   ],
   "metadata": {
    "collapsed": false,
    "pycharm": {
     "name": "#%%\n",
     "is_executing": false
    }
   }
  },
  {
   "cell_type": "code",
   "execution_count": 41,
   "outputs": [
    {
     "data": {
      "text/plain": "0.9378378378378378"
     },
     "metadata": {},
     "output_type": "execute_result",
     "execution_count": 41
    }
   ],
   "source": [
    "scale_train_test(12345, .65, bc_data, 2, 'bc')\n"
   ],
   "metadata": {
    "collapsed": false,
    "pycharm": {
     "name": "#%%\n",
     "is_executing": false
    }
   }
  },
  {
   "cell_type": "markdown",
   "source": [
    "### Iris Dataset\n",
    "This section analyzes the Iris Dataset"
   ],
   "metadata": {
    "collapsed": false
   }
  },
  {
   "cell_type": "code",
   "execution_count": 19,
   "outputs": [],
   "source": [
    "ir_data_map = datasets.load_iris()\n",
    "ir_data = pd.DataFrame(data=ir_data_map.data, columns=ir_data_map.feature_names)"
   ],
   "metadata": {
    "collapsed": false,
    "pycharm": {
     "name": "#%%\n",
     "is_executing": false
    }
   }
  },
  {
   "cell_type": "code",
   "execution_count": 20,
   "outputs": [],
   "source": [
    "ir_em, ir_x_train_scaled, ir_x_test_scaled, ir_y_train, ir_y_test = scale_and_train(12345, .65, ir_data, 3, 'ir', labels=ir_data_map.target)"
   ],
   "metadata": {
    "collapsed": false,
    "pycharm": {
     "name": "#%%\n",
     "is_executing": false
    }
   }
  },
  {
   "cell_type": "code",
   "execution_count": 33,
   "outputs": [],
   "source": [
    "ir_predictions = ir_em.predict(ir_x_test_scaled)"
   ],
   "metadata": {
    "collapsed": false,
    "pycharm": {
     "name": "#%%\n",
     "is_executing": false
    }
   }
  },
  {
   "cell_type": "code",
   "execution_count": 34,
   "outputs": [],
   "source": [
    "ir_diverging_indecies = error_indices(ir_predictions, ir_y_test)"
   ],
   "metadata": {
    "collapsed": false,
    "pycharm": {
     "name": "#%%\n",
     "is_executing": false
    }
   }
  },
  {
   "cell_type": "code",
   "execution_count": 35,
   "outputs": [
    {
     "data": {
      "text/plain": "[{'index': 0, 'p': 2, 'a': 1},\n {'index': 2, 'p': 2, 'a': 1},\n {'index': 8, 'p': 2, 'a': 1},\n {'index': 9, 'p': 1, 'a': 2},\n {'index': 11, 'p': 1, 'a': 2},\n {'index': 12, 'p': 2, 'a': 1},\n {'index': 14, 'p': 1, 'a': 2},\n {'index': 15, 'p': 1, 'a': 2},\n {'index': 17, 'p': 1, 'a': 2},\n {'index': 18, 'p': 2, 'a': 1},\n {'index': 19, 'p': 2, 'a': 1},\n {'index': 21, 'p': 2, 'a': 1},\n {'index': 23, 'p': 2, 'a': 1},\n {'index': 25, 'p': 1, 'a': 2},\n {'index': 27, 'p': 2, 'a': 1},\n {'index': 29, 'p': 1, 'a': 2},\n {'index': 32, 'p': 1, 'a': 2},\n {'index': 33, 'p': 1, 'a': 2},\n {'index': 34, 'p': 2, 'a': 1},\n {'index': 36, 'p': 1, 'a': 2},\n {'index': 37, 'p': 2, 'a': 1},\n {'index': 39, 'p': 2, 'a': 1},\n {'index': 41, 'p': 2, 'a': 1},\n {'index': 43, 'p': 1, 'a': 2},\n {'index': 44, 'p': 2, 'a': 1},\n {'index': 45, 'p': 2, 'a': 1},\n {'index': 47, 'p': 2, 'a': 1},\n {'index': 48, 'p': 2, 'a': 1},\n {'index': 49, 'p': 2, 'a': 1},\n {'index': 50, 'p': 1, 'a': 2},\n {'index': 52, 'p': 2, 'a': 1},\n {'index': 54, 'p': 1, 'a': 2},\n {'index': 55, 'p': 1, 'a': 2},\n {'index': 57, 'p': 1, 'a': 2},\n {'index': 59, 'p': 1, 'a': 2},\n {'index': 60, 'p': 1, 'a': 2},\n {'index': 61, 'p': 1, 'a': 2},\n {'index': 62, 'p': 1, 'a': 2},\n {'index': 63, 'p': 2, 'a': 1},\n {'index': 64, 'p': 1, 'a': 2},\n {'index': 65, 'p': 2, 'a': 1},\n {'index': 68, 'p': 2, 'a': 1},\n {'index': 70, 'p': 1, 'a': 2},\n {'index': 71, 'p': 1, 'a': 2},\n {'index': 74, 'p': 1, 'a': 2},\n {'index': 76, 'p': 1, 'a': 2},\n {'index': 77, 'p': 2, 'a': 1},\n {'index': 80, 'p': 2, 'a': 1},\n {'index': 81, 'p': 1, 'a': 2},\n {'index': 83, 'p': 1, 'a': 2},\n {'index': 84, 'p': 2, 'a': 1},\n {'index': 86, 'p': 2, 'a': 1},\n {'index': 87, 'p': 2, 'a': 1},\n {'index': 88, 'p': 2, 'a': 1},\n {'index': 91, 'p': 2, 'a': 1},\n {'index': 92, 'p': 1, 'a': 2},\n {'index': 94, 'p': 2, 'a': 1},\n {'index': 95, 'p': 2, 'a': 1},\n {'index': 96, 'p': 1, 'a': 2},\n {'index': 97, 'p': 2, 'a': 1}]"
     },
     "metadata": {},
     "output_type": "execute_result",
     "execution_count": 35
    }
   ],
   "source": [
    "ir_diverging_indecies"
   ],
   "metadata": {
    "collapsed": false,
    "pycharm": {
     "name": "#%%\n",
     "is_executing": false
    }
   }
  },
  {
   "cell_type": "code",
   "execution_count": 36,
   "outputs": [
    {
     "data": {
      "text/plain": "0.3877551020408163"
     },
     "metadata": {},
     "output_type": "execute_result",
     "execution_count": 36
    }
   ],
   "source": [
    "(len(ir_predictions)-len(ir_diverging_indecies))/len(ir_predictions)"
   ],
   "metadata": {
    "collapsed": false,
    "pycharm": {
     "name": "#%%\n",
     "is_executing": false
    }
   }
  },
  {
   "cell_type": "code",
   "execution_count": 40,
   "outputs": [
    {
     "data": {
      "text/plain": "0.3877551020408163"
     },
     "metadata": {},
     "output_type": "execute_result",
     "execution_count": 40
    }
   ],
   "source": [
    "scale_train_test(12345, .65, ir_data, 3, 'ir', labels=ir_data_map.target)"
   ],
   "metadata": {
    "collapsed": false,
    "pycharm": {
     "name": "#%%\n",
     "is_executing": false
    }
   }
  },
  {
   "cell_type": "code",
   "execution_count": null,
   "outputs": [],
   "source": [
    "\n"
   ],
   "metadata": {
    "collapsed": false,
    "pycharm": {
     "name": "#%%\n"
    }
   }
  }
 ],
 "metadata": {
  "kernelspec": {
   "display_name": "Python 3",
   "language": "python",
   "name": "python3"
  },
  "language_info": {
   "codemirror_mode": {
    "name": "ipython",
    "version": 3
   },
   "file_extension": ".py",
   "mimetype": "text/x-python",
   "name": "python",
   "nbconvert_exporter": "python",
   "pygments_lexer": "ipython3",
   "version": "3.7.4"
  },
  "pycharm": {
   "stem_cell": {
    "cell_type": "raw",
    "source": [],
    "metadata": {
     "collapsed": false
    }
   }
  }
 },
 "nbformat": 4,
 "nbformat_minor": 2
}